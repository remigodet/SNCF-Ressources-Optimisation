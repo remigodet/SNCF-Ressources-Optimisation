{
      "cells": [
            {
                  "cell_type": "code",
                  "execution_count": 1,
                  "metadata": {},
                  "outputs": [
                        {
                              "name": "stderr",
                              "output_type": "stream",
                              "text": [
                                    "LOADING DATA: 8it [00:41,  3.44s/it]                       "
                              ]
                        }
                  ],
                  "source": [
                        "import importlib\n",
                        "import data\n",
                        "from gurobipy import *\n",
                        "\n",
                        "# get data from excel\n",
                        "dataframes = data.get_all_pandas()"
                  ]
            },
            {
                  "cell_type": "code",
                  "execution_count": 10,
                  "metadata": {},
                  "outputs": [],
                  "source": [
                        "from openpyxl import Workbook\n",
                        "from datetime import datetime\n",
                        "from utils import min_to_jour\n",
                        "\n",
                        "def show_solution(model, OCCUPATIONS):\n",
                        "    # print(var_dict)\n",
                        "    print(\"Objectif minimal: \", m.objVal)\n",
                        "    #build excel of tasks\n",
                        "    workbook = Workbook()\n",
                        "    sheet = workbook.active\n",
                        "    sillons_df = dataframes[\"sillons_df\"]\n",
                        "    taches_df = dataframes[\"taches_df\"]\n",
                        "    machines_df = dataframes[\"machines_df\"]\n",
                        "\n",
                        "    sheet[\"A1\"] = \"Id_tache\"\n",
                        "    sheet[\"B1\"] = \"Type de tache\"\n",
                        "    sheet[\"C1\"] = \"Jour\"\n",
                        "    sheet[\"D1\"] = \"HDébut\"\n",
                        "    sheet[\"E1\"] = \"Durée\"\n",
                        "    sheet[\"F1\"] = \"Sillon\"\n",
                        "    sheet[\"G1\"] = \"Minute\"\n",
                        "    row = 2\n",
                        "    for tache in var_dict.keys():\n",
                        "        for sillon_id in var_dict[tache].keys():\n",
                        "            sheet[f\"B{row}\"] = tache\n",
                        "            sheet[f\"A{row}\"] = tache + \"_\" + sillon_id\n",
                        "            sheet[f\"C{row}\"] = min_to_jour(var_dict[tache][sillon_id].X)[0]\n",
                        "            sheet[f\"D{row}\"] = min_to_jour(var_dict[tache][sillon_id].X)[1]\n",
                        "            if tache in list(machines_df[\"Machine\"]):\n",
                        "                sheet[f\"E{row}\"] = machines_df[machines_df[\"Machine\"] == tache][\"Duree \"].iloc[0]\n",
                        "            elif tache in list(taches_df[\"Type de tache humaine\"]): \n",
                        "                sheet[f\"E{row}\"] = taches_df[taches_df[\"Type de tache humaine\"] == tache][\"Durée\"].iloc[0]\n",
                        "            sheet[f\"F{row}\"] = sillon_id\n",
                        "            sheet[f\"G{row}\"] = var_dict[tache][sillon_id].X\n",
                        "            row += 1\n",
                        "    ##ocupation\n",
                        "    L, occupation_limits = retrieve_occupations(OCCUPATIONS)\n",
                        "    occupation_sheet = workbook.create_sheet(\"Occupation\")\n",
                        "    sheet = occupation_sheet\n",
                        "    sheet[\"A1\"] = \"Mesure\"\n",
                        "    sheet[\"B1\"] = \"WPY_REC\"\n",
                        "    sheet[\"C1\"] = \"WPY_FOR\"\n",
                        "    sheet[\"D1\"] = \"WPY_DEP\"\n",
                        "    \n",
                        "    sheet[\"A2\"] = \"Taux max occupation\"\n",
                        "    sheet[\"A3\"] = \"Nb max occupation\"\n",
                        "    sheet[\"A4\"] = \"Nb max par chantier\"\n",
                        "    \n",
                        "    chantier = \"WPY_REC\"\n",
                        "    occupation_max = max(L[0])\n",
                        "    capacity = occupation_limits[0]\n",
                        "    sheet[\"B2\"] = 100*occupation_max/capacity\n",
                        "    sheet[\"B3\"] = occupation_max\n",
                        "    sheet[\"B4\"] = capacity\n",
                        "    \n",
                        "    chantier = \"WPY_FOR\"\n",
                        "    occupation_max = max(L[1])\n",
                        "    capacity = occupation_limits[1]\n",
                        "    sheet[\"C2\"] = 100*occupation_max/capacity\n",
                        "    sheet[\"C3\"] = occupation_max\n",
                        "    sheet[\"C4\"] = capacity\n",
                        "    \n",
                        "    chantier = \"WPY_DEP\"\n",
                        "    occupation_max = max(L[2])\n",
                        "    capacity = occupation_limits[2]\n",
                        "    sheet[\"D2\"] = 100*occupation_max/capacity\n",
                        "    sheet[\"D3\"] = occupation_max\n",
                        "    sheet[\"D4\"] = capacity\n",
                        "    \n",
                        "    currentDateAndTime = datetime.now().strftime(\"%d-%m_%H-%M-%S\")\n",
                        "    workbook.save(filename=f\"results/{data.NAME}-{currentDateAndTime}.xlsx\")\n",
                        "# show_solution(m)\n"
                  ]
            },
            {
                  "cell_type": "code",
                  "execution_count": 3,
                  "metadata": {},
                  "outputs": [
                        {
                              "data": {
                                    "text/plain": [
                                          "<module 'utils' from 'c:\\\\Users\\\\remgo\\\\Desktop\\\\ProjetST7\\\\git\\\\utils.py'>"
                                    ]
                              },
                              "execution_count": 3,
                              "metadata": {},
                              "output_type": "execute_result"
                        }
                  ],
                  "source": [
                        "import variables\n",
                        "import contraintes\n",
                        "import importlib\n",
                        "import utils\n",
                        "importlib.reload(variables) #to remive in final .py\n",
                        "\n",
                        "importlib.reload(utils)"
                  ]
            },
            {
                  "cell_type": "code",
                  "execution_count": 4,
                  "metadata": {},
                  "outputs": [
                        {
                              "name": "stdout",
                              "output_type": "stream",
                              "text": [
                                    "Set parameter Username\n",
                                    "Academic license - for non-commercial use only - expires 2024-01-26\n"
                              ]
                        },
                        {
                              "name": "stderr",
                              "output_type": "stream",
                              "text": [
                                    "Initialising variables: 100%|██████████| 217/217 [00:00<00:00, 793.43it/s]\n"
                              ]
                        },
                        {
                              "name": "stdout",
                              "output_type": "stream",
                              "text": [
                                    "\n"
                              ]
                        },
                        {
                              "name": "stderr",
                              "output_type": "stream",
                              "text": [
                                    "c:\\Users\\remgo\\Desktop\\ProjetST7\\git\\contraintes.py:195: UserWarning: Boolean Series key will be reindexed to match DataFrame index.\n",
                                    "  tache_precedante = taches_df[taches_df[\"Ordre\"] == ordre -\n",
                                    "c:\\Users\\remgo\\Desktop\\ProjetST7\\git\\contraintes.py:204: UserWarning: Boolean Series key will be reindexed to match DataFrame index.\n",
                                    "  list_wagons = list(correspondances_df[correspondances_df[\"train_id\"] ==\n",
                                    "c:\\Users\\remgo\\Desktop\\ProjetST7\\git\\contraintes.py:207: UserWarning: Boolean Series key will be reindexed to match DataFrame index.\n",
                                    "  sillon_arr = correspondances_df[correspondances_df[\"id_wagon\"] ==\n",
                                    "BUILDING CONSTRAINTS: 100%|██████████| 8/8 [00:54<00:00,  6.81s/it]"
                              ]
                        },
                        {
                              "name": "stdout",
                              "output_type": "stream",
                              "text": [
                                    "\n",
                                    "6_41212417/08/202203:1323:5917/08/2022 + 6_43111317/08/202211:0023:5917/08/2022\n"
                              ]
                        },
                        {
                              "name": "stderr",
                              "output_type": "stream",
                              "text": [
                                    "\n"
                              ]
                        },
                        {
                              "name": "stdout",
                              "output_type": "stream",
                              "text": [
                                    "Gurobi Optimizer version 10.0.0 build v10.0.0rc2 (win64)\n",
                                    "\n",
                                    "CPU model: AMD Ryzen 7 5800H with Radeon Graphics, instruction set [SSE2|AVX|AVX2]\n",
                                    "Thread count: 8 physical cores, 16 logical processors, using up to 16 threads\n",
                                    "\n",
                                    "Optimize a model with 110200 rows, 151794 columns and 323037 nonzeros\n",
                                    "Model fingerprint: 0x50fabfe1\n",
                                    "Model has 191140 general constraints\n",
                                    "Variable types: 0 continuous, 151794 integer (112805 binary)\n",
                                    "Coefficient statistics:\n",
                                    "  Matrix range     [1e+00, 2e+06]\n",
                                    "  Objective range  [1e+00, 1e+00]\n",
                                    "  Bounds range     [1e+00, 1e+00]\n",
                                    "  RHS range        [1e+00, 2e+06]\n",
                                    "  GenCon rhs range [5e-01, 2e+01]\n",
                                    "  GenCon coe range [1e+00, 2e+01]\n",
                                    "Presolve removed 335156 rows and 381191 columns (presolve time = 5s) ...\n",
                                    "Presolve removed 335156 rows and 381191 columns (presolve time = 10s) ...\n",
                                    "Presolve removed 80508 rows and 139862 columns\n",
                                    "Presolve time: 13.09s\n",
                                    "Presolved: 29692 rows, 11932 columns, 90268 nonzeros\n",
                                    "Variable types: 0 continuous, 11932 integer (11590 binary)\n",
                                    "Found heuristic solution: objective 25035.000000\n",
                                    "\n",
                                    "Root simplex log...\n",
                                    "\n",
                                    "Iteration    Objective       Primal Inf.    Dual Inf.      Time\n",
                                    "       0    1.2645000e+04   4.137178e+04   0.000000e+00     14s\n",
                                    "    7456    1.2645000e+04   0.000000e+00   0.000000e+00     14s\n",
                                    "\n",
                                    "Root relaxation: objective 1.264500e+04, 7456 iterations, 0.23 seconds (0.12 work units)\n",
                                    "\n",
                                    "    Nodes    |    Current Node    |     Objective Bounds      |     Work\n",
                                    " Expl Unexpl |  Obj  Depth IntInf | Incumbent    BestBd   Gap | It/Node Time\n",
                                    "\n",
                                    "H    0     0                    12645.000000 12645.0000  0.00%     -   13s\n",
                                    "     0     0 12645.0000    0   32 12645.0000 12645.0000  0.00%     -   13s\n",
                                    "\n",
                                    "Explored 1 nodes (9201 simplex iterations) in 13.98 seconds (4.66 work units)\n",
                                    "Thread count was 16 (of 16 available processors)\n",
                                    "\n",
                                    "Solution count 2: 12645 25035 \n",
                                    "\n",
                                    "Optimal solution found (tolerance 1.00e-04)\n",
                                    "Best objective 1.264500000000e+04, best bound 1.264500000000e+04, gap 0.0000%\n",
                                    "Objectif minimal:  12645.0\n"
                              ]
                        }
                  ],
                  "source": [
                        "# create model\n",
                        "importlib.reload(contraintes) #to remive in final .py\n",
                        "m = Model()\n",
                        "\n",
                        "# generate variables (integers)\n",
                        "var_dict = variables.generate_variablesJ1(m, dataframes)\n",
                        "# generate variables\n",
                        "B, OCCUPATIONS = contraintes.generate_contraintes(m, dataframes, var_dict)\n",
                        "\n",
                        "final_train_task = dataframes[\"sillons_df\"].copy()\n",
                        "final_train_task = final_train_task[final_train_task[\"LDEP\"]==\"WPY\"]\n",
                        "final_train_task = final_train_task[final_train_task[\"JARR\"]==final_train_task[\"JARR\"].max()]\n",
                        "# final_train_task = final_train_task[final_train_task[\"HDEP\"]==final_train_task[\"HDEP\"].max()][\"train_id\"].iloc[0]\n",
                        "# final_train_task = var_dict[\"essai de frein départ\"][final_train_task]\n",
                        "final_train_task = quicksum([var_dict[\"essai de frein départ\"][temp] for temp in list(final_train_task[\"train_id\"])])\n",
                        "print(final_train_task)\n",
                        "m.setObjective(final_train_task, GRB.MINIMIZE)\n",
                        "# autre idée : maximiser la moyenne de l'ecart entre frein de depart et HDEP\n",
                        "# aute idee minimiser occupation\n",
                        "m.update()\n",
                        "# m.printStats()\n",
                        "# m.write(\"genconstr.mps\")\n",
                        "# m.write(\"test.lp\")\n",
                        "m.optimize()\n",
                        "# m.write(\"test.lp\")\n",
                        "\n",
                        "show_solution(m, OCCUPATIONS)"
                  ]
            },
            {
                  "attachments": {},
                  "cell_type": "markdown",
                  "metadata": {},
                  "source": [
                        "Nodes    |    Current Node    |     Objective Bounds      |     Work\n",
                        " Expl Unexpl |  Obj  Depth IntInf | Incumbent    BestBd   Gap | It/Node Time"
                  ]
            },
            {
                  "cell_type": "code",
                  "execution_count": 8,
                  "metadata": {},
                  "outputs": [],
                  "source": [
                        "##### Respect du nombre de voies de chantier #####\n",
                        "def retrieve_occupations(OCCUPATIONS):\n",
                        "    # print(len(OCCUPATIONS))\n",
                        "    # print(OCCUPATIONS[0])\n",
                        "    # print(type(OCCUPATIONS[0]))\n",
                        "    # print(OCCUPATIONS[0].getValue())\n",
                        "    chantiers_df = dataframes[\"chantiers_df\"]\n",
                        "    L = [[],[],[]]\n",
                        "    occupation_limits = [chantiers_df[chantiers_df[\"Chantier\"]==\"WPY_REC\"][\"Nombre de voies\"].iloc[0],\n",
                        "            chantiers_df[chantiers_df[\"Chantier\"]==\"WPY_FOR\"][\"Nombre de voies\"].iloc[0],\n",
                        "            chantiers_df[chantiers_df[\"Chantier\"]==\"WPY_DEP\"][\"Nombre de voies\"].iloc[0]]\n",
                        "    for line_expr in OCCUPATIONS[\"DEB\"]:\n",
                        "        v = line_expr.getValue()\n",
                        "        \n",
                        "        if v == occupation_limits[0]:\n",
                        "            print(\"DEB limite atteinte\")\n",
                        "        if v > occupation_limits[0]:\n",
                        "            print(\"DEB limite DEPASSEE\")\n",
                        "            \n",
                        "        L[0].append(v)\n",
                        "        \n",
                        "    for line_expr in OCCUPATIONS[\"FOR\"]:\n",
                        "        v = line_expr.getValue()\n",
                        "        if v == occupation_limits[1]:\n",
                        "            print(\"FOR limite atteinte\")\n",
                        "        if v > occupation_limits[1]:\n",
                        "            print(\"FOR limite DEPASSEE\")\n",
                        "        L[1].append(v)\n",
                        "\n",
                        "\n",
                        "    for line_expr in OCCUPATIONS[\"DEG\"]:\n",
                        "        v = line_expr.getValue()\n",
                        "        if v == occupation_limits[2]:\n",
                        "            print(\"DEG limite atteinte\")\n",
                        "        if v > occupation_limits[2]:\n",
                        "            print(\"DEG limite DEPASSEE\")\n",
                        "        L[2].append(v)\n",
                        "    return L,occupation_limits\n"
                  ]
            },
            {
                  "cell_type": "code",
                  "execution_count": 12,
                  "metadata": {},
                  "outputs": [
                        {
                              "name": "stdout",
                              "output_type": "stream",
                              "text": [
                                    "Objectif minimal:  12645.0\n",
                                    "DEG limite atteinte\n",
                                    "DEG limite atteinte\n",
                                    "DEG limite atteinte\n",
                                    "DEG limite atteinte\n",
                                    "DEG limite atteinte\n",
                                    "DEG limite atteinte\n",
                                    "DEG limite atteinte\n",
                                    "DEG limite atteinte\n",
                                    "DEG limite atteinte\n"
                              ]
                        }
                  ],
                  "source": [
                        "show_solution(m,OCCUPATIONS)"
                  ]
            }
      ],
      "metadata": {
            "kernelspec": {
                  "display_name": "st7",
                  "language": "python",
                  "name": "python3"
            },
            "language_info": {
                  "codemirror_mode": {
                        "name": "ipython",
                        "version": 3
                  },
                  "file_extension": ".py",
                  "mimetype": "text/x-python",
                  "name": "python",
                  "nbconvert_exporter": "python",
                  "pygments_lexer": "ipython3",
                  "version": "3.9.15"
            },
            "orig_nbformat": 4,
            "vscode": {
                  "interpreter": {
                        "hash": "7b434065e2cdc05a5f5c63d7b8fefd02becf6c657fdc906fc2a634796f2f0d30"
                  }
            }
      },
      "nbformat": 4,
      "nbformat_minor": 2
}
