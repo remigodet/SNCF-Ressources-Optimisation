{
 "cells": [
  {
   "cell_type": "code",
   "execution_count": 1,
   "metadata": {},
   "outputs": [
    {
     "name": "stderr",
     "output_type": "stream",
     "text": [
      "LOADING DATA: 7it [00:30,  3.01s/it]                       "
     ]
    }
   ],
   "source": [
    "import importlib\n",
    "import data\n",
    "from gurobipy import *\n",
    "\n",
    "# get data from excel\n",
    "dataframes = data.get_all_pandas()"
   ]
  },
  {
   "cell_type": "code",
   "execution_count": 2,
   "metadata": {},
   "outputs": [
    {
     "data": {
      "text/plain": [
       "<module 'contraintes' from 'c:\\\\Users\\\\remgo\\\\Desktop\\\\ProjetST7\\\\git\\\\contraintes.py'>"
      ]
     },
     "execution_count": 2,
     "metadata": {},
     "output_type": "execute_result"
    }
   ],
   "source": [
    "import variables\n",
    "import contraintes\n",
    "import importlib\n",
    "importlib.reload(variables) #to remive in final .py\n",
    "importlib.reload(contraintes) #to remive in final .py"
   ]
  },
  {
   "cell_type": "code",
   "execution_count": 3,
   "metadata": {},
   "outputs": [],
   "source": [
    "from openpyxl import Workbook\n",
    "from datetime import datetime\n",
    "\n",
    "def show_solution(model):\n",
    "    # print(var_dict)\n",
    "    print(\"Objectif minimal: \", m.objVal)\n",
    "    #build excel of tasks\n",
    "    workbook = Workbook()\n",
    "    sheet = workbook.active\n",
    "    sillons_df = dataframes[\"sillons_df\"]\n",
    "\n",
    "    sheet[\"A1\"] = \"Id_tache\"\n",
    "    sheet[\"B1\"] = \"tache\"\n",
    "    sheet[\"C1\"] = \"minute\"\n",
    "    sheet[\"D1\"] = \"HARR\"\n",
    "    \n",
    "    sheet[\"E1\"] = \"JDEP\"\n",
    "    row = 2\n",
    "    for tache in var_dict.keys():\n",
    "        for sillon_id in var_dict[tache].keys():\n",
    "            sheet[f\"B{row}\"] = tache\n",
    "            sheet[f\"C{row}\"] = var_dict[tache][sillon_id].X\n",
    "            sheet[f\"A{row}\"] = sillon_id\n",
    "            sheet[f\"D{row}\"] = sillons_df[sillons_df[\"train_id\"]==sillon_id][\"HARR\"].iloc[0]\n",
    "            sheet[f\"E{row}\"] = sillons_df[sillons_df[\"train_id\"]==sillon_id][\"JDEP\"].iloc[0]\n",
    "            row += 1\n",
    "\n",
    "    currentDateAndTime = datetime.now().strftime(\"%d-%m_%H-%M-%S\")\n",
    "    workbook.save(filename=f\"results/{data.NAME}-{currentDateAndTime}.xlsx\")\n",
    "# show_solution(m)\n"
   ]
  },
  {
   "cell_type": "code",
   "execution_count": 4,
   "metadata": {},
   "outputs": [
    {
     "name": "stdout",
     "output_type": "stream",
     "text": [
      "Set parameter Username\n",
      "Academic license - for non-commercial use only - expires 2024-01-26\n"
     ]
    },
    {
     "name": "stderr",
     "output_type": "stream",
     "text": [
      "Initialising variables: 100%|██████████| 217/217 [00:00<00:00, 871.50it/s]\n"
     ]
    },
    {
     "name": "stdout",
     "output_type": "stream",
     "text": [
      "\n"
     ]
    },
    {
     "name": "stderr",
     "output_type": "stream",
     "text": [
      "c:\\Users\\remgo\\Desktop\\ProjetST7\\git\\contraintes.py:186: UserWarning: Boolean Series key will be reindexed to match DataFrame index.\n",
      "  tache_precedante = taches_df[taches_df[\"Ordre\"] == ordre -\n"
     ]
    },
    {
     "name": "stdout",
     "output_type": "stream",
     "text": [
      "15\n",
      "15\n"
     ]
    },
    {
     "name": "stderr",
     "output_type": "stream",
     "text": [
      "c:\\Users\\remgo\\Desktop\\ProjetST7\\git\\contraintes.py:195: UserWarning: Boolean Series key will be reindexed to match DataFrame index.\n",
      "  list_wagons = list(correspondances_df[correspondances_df[\"train_id\"] ==\n",
      "c:\\Users\\remgo\\Desktop\\ProjetST7\\git\\contraintes.py:198: UserWarning: Boolean Series key will be reindexed to match DataFrame index.\n",
      "  sillon_arr = correspondances_df[correspondances_df[\"id_wagon\"] ==\n",
      "c:\\Users\\remgo\\Desktop\\ProjetST7\\git\\contraintes.py:273: UserWarning: Boolean Series key will be reindexed to match DataFrame index.\n",
      "  chantier_cycles[chantier, \"end\"] = taches_df[taches_df[\"Chantier\"] == chantier][taches_df.Ordre ==\n",
      "c:\\Users\\remgo\\Desktop\\ProjetST7\\git\\contraintes.py:275: UserWarning: Boolean Series key will be reindexed to match DataFrame index.\n",
      "  chantier_cycles[chantier, \"start\"] = taches_df[taches_df[\"Chantier\"] == chantier][taches_df.Ordre ==\n"
     ]
    },
    {
     "name": "stdout",
     "output_type": "stream",
     "text": [
      "Adding occupation constrainst for: WPY_REC...\n",
      "Adding occupation constrainst for: WPY_FOR...\n"
     ]
    },
    {
     "name": "stderr",
     "output_type": "stream",
     "text": [
      "BUILDING CONSTRAINTS: 100%|██████████| 8/8 [00:14<00:00,  1.82s/it]"
     ]
    },
    {
     "name": "stdout",
     "output_type": "stream",
     "text": [
      "Adding occupation constrainst for: WPY_DEP...\n",
      "\n",
      "<gurobi.Var *Awaiting Model Update*>\n",
      "\n",
      "Statistics for modelUnnamed:\n",
      "  Linear constraint matrix    : 74426 Constrs, 72377 Vars, 332983 NZs\n",
      "  Variable types              : 0 Continuous,\n",
      "72377 Integer (69480 Binary)\n",
      "  General constraints         : 104490 Constrs\n",
      "  Matrix coefficient range    : [ 1, 2e+06 ]\n",
      "  Objective coefficient range : [ 1, 1 ]\n",
      "  Variable bound range        : [ 1, 1 ]\n",
      "  RHS coefficient range       : [ 1, 2.0094e+06 ]\n",
      "Gurobi Optimizer version 10.0.0 build v10.0.0rc2 (win64)\n",
      "\n",
      "CPU model: AMD Ryzen 7 5800H with Radeon Graphics, instruction set [SSE2|AVX|AVX2]\n",
      "Thread count: 8 physical cores, 16 logical processors, using up to 16 threads\n",
      "\n",
      "Optimize a model with 74426 rows, 72377 columns and 332983 nonzeros\n",
      "Model fingerprint: 0x0704a239\n"
     ]
    },
    {
     "name": "stderr",
     "output_type": "stream",
     "text": [
      "\n"
     ]
    },
    {
     "name": "stdout",
     "output_type": "stream",
     "text": [
      "Model has 104490 general constraints\n",
      "Variable types: 0 continuous, 72377 integer (69480 binary)\n",
      "Coefficient statistics:\n",
      "  Matrix range     [1e+00, 2e+06]\n",
      "  Objective range  [1e+00, 1e+00]\n",
      "  Bounds range     [1e+00, 1e+00]\n",
      "  RHS range        [1e+00, 2e+06]\n",
      "  GenCon rhs range [5e-01, 2e+01]\n",
      "  GenCon coe range [1e+00, 1e+00]\n",
      "Presolve removed 43370 rows and 59775 columns\n",
      "Presolve time: 1.64s\n",
      "Presolved: 31056 rows, 12602 columns, 105204 nonzeros\n",
      "Variable types: 0 continuous, 12602 integer (12039 binary)\n",
      "\n",
      "Deterministic concurrent LP optimizer: primal and dual simplex (primal and dual model)\n",
      "Showing first log only...\n",
      "\n",
      "Root relaxation presolved: 30653 rows, 12666 columns, 100161 nonzeros\n",
      "\n",
      "Concurrent spin time: 0.00s\n",
      "\n",
      "Solved with dual simplex (primal model)\n",
      "\n",
      "Root relaxation: objective 3.900000e+03, 8683 iterations, 0.30 seconds (0.16 work units)\n",
      "\n",
      "    Nodes    |    Current Node    |     Objective Bounds      |     Work\n",
      " Expl Unexpl |  Obj  Depth IntInf | Incumbent    BestBd   Gap | It/Node Time\n",
      "\n",
      "     0     0 3900.00000    0  390          - 3900.00000      -     -    3s\n",
      "     0     0 3900.00000    0 1020          - 3900.00000      -     -    5s\n",
      "     0     0 3900.00000    0  970          - 3900.00000      -     -    6s\n",
      "     0     0 3900.00000    0  336          - 3900.00000      -     -    8s\n",
      "     0     0 3900.00000    0  673          - 3900.00000      -     -    9s\n",
      "     0     0 3900.00000    0  308          - 3900.00000      -     -   11s\n",
      "     0     0 3900.00000    0  261          - 3900.00000      -     -   12s\n",
      "     0     0 3900.00000    0  920          - 3900.00000      -     -   13s\n",
      "     0     0 3900.00000    0  323          - 3900.00000      -     -   16s\n",
      "     0     0 3900.00000    0  243          - 3900.00000      -     -   17s\n",
      "     0     0 3900.00000    0  324          - 3900.00000      -     -   20s\n",
      "     0     0 3900.00000    0  944          - 3900.00000      -     -   21s\n",
      "     0     0 3900.00000    0  919          - 3900.00000      -     -   21s\n",
      "     0     0 3900.00000    0  874          - 3900.00000      -     -   21s\n",
      "     0     0 3900.00000    0  192          - 3900.00000      -     -   23s\n",
      "     0     0 3900.00000    0  846          - 3900.00000      -     -   24s\n",
      "     0     0 3900.00000    0  222          - 3900.00000      -     -   25s\n",
      "     0     0 3900.00000    0  887          - 3900.00000      -     -   26s\n",
      "     0     0 3900.00000    0  221          - 3900.00000      -     -   27s\n",
      "     0     0 3900.00000    0  182          - 3900.00000      -     -   27s\n",
      "     0     2 3900.00000    0  144          - 3900.00000      -     -   29s\n",
      "     3     6 3900.00000    2  520          - 3900.00000      -  2265   30s\n",
      "    83    97 3900.00000    9  609          - 3900.00000      -  1253   35s\n",
      "   237   402 3900.00000   24  153          - 3900.00000      -   676   41s\n",
      "   509   736 3900.00000   54  234          - 3900.00000      -   360   51s\n",
      "   991  1356 3900.00000   12  281          - 3900.00000      -   225   60s\n",
      "  1843  1834 3900.00000   63  240          - 3900.00000      -   154   68s\n",
      "  2526  1835 6735.00000   26  243          - 3900.00000      -   137   71s\n",
      "  2529  1837 3900.00000   71  897          - 3900.00000      -   137   75s\n",
      "  2536  1843 5895.00000   16  843          - 3900.00000      -   146   80s\n",
      "  2542  1847 3900.00000   25  257          - 3900.00000      -   146   85s\n",
      "  2548  1851 3900.00000   69  186          - 3900.00000      -   146   91s\n",
      "  2553  1854 3900.00000   41  484          - 3900.00000      -   145   95s\n",
      "  2571  1873 3900.00000   32  101          - 3900.00000      -   212  103s\n",
      "  2635  1888 infeasible   35               - 3900.00000      -   216  105s\n",
      "  2932  2168 3900.00000   44  267          - 3900.00000      -   233  112s\n",
      "  3152  2469 3900.00000   55  192          - 3900.00000      -   253  118s\n",
      "  3613  2696 3900.00000   69  149          - 3900.00000      -   274  125s\n",
      "  4131  2729 infeasible   63               - 3900.00000      -   286  130s\n",
      "  4590  2628 3900.00000   48  145          - 3900.00000      -   301  139s\n",
      "  4674  2878 6570.00000   62  341          - 3900.00000      -   308  145s\n",
      "  5152  2953 3900.00000  106  119          - 3900.00000      -   330  151s\n",
      "  5644  2972 infeasible   67               - 3900.00000      -   348  158s\n",
      "  6237  2967 3900.00000   78  145          - 3900.00000      -   360  165s\n",
      "  6859  3109 3900.00000  116  103          - 3900.00000      -   364  172s\n",
      "  7611  3157 infeasible  116               - 3900.00000      -   363  180s\n",
      "  8429  3720 infeasible  102               - 3900.00000      -   361  191s\n",
      " 10978  3827 3900.00000  135   37          - 3900.00000      -   297  201s\n",
      " 13688  3835 3900.00000  119   45          - 3900.00000      -   247  209s\n",
      " 16516  4225 3900.00000  139   40          - 3900.00000      -   210  220s\n",
      " 20829  3795 infeasible  142               - 3900.00000      -   169  230s\n",
      " 25644  3875 3900.00000  131   31          - 3900.00000      -   141  236s\n",
      " 27632  3968 infeasible  124               - 3900.00000      -   134  243s\n",
      " 29045  3889 infeasible  139               - 3900.00000      -   130  246s\n",
      " 29976  3991 infeasible  127               - 3900.00000      -   128  251s\n",
      " 30779  4045 3900.00000  151   60          - 3900.00000      -   126  255s\n",
      " 33008  4327 3900.00000  146   56          - 3900.00000      -   121  263s\n",
      " 33901  4373 3900.00000  146   40          - 3900.00000      -   120  267s\n",
      " 34848  4431 infeasible  160               - 3900.00000      -   118  271s\n",
      " 35891  4593 infeasible  160               - 3900.00000      -   117  564s\n",
      " 37974  4892 infeasible  167               - 3900.00000      -   114  572s\n",
      " 40298  4778 infeasible  174               - 3900.00000      -   110  577s\n",
      " 41397  4827 3900.00000  192   74          - 3900.00000      -   109  583s\n",
      " 42584  5044 3900.00000  187   37          - 3900.00000      -   107  590s\n",
      " 44898  5010 infeasible  197               - 3900.00000      -   103  595s\n",
      " 45778  5123 3900.00000  159  113          - 3900.00000      -   103  601s\n",
      " 46606  5232 3900.00000   79  170          - 3900.00000      -   103  607s\n",
      " 47533  5283 3900.00000   99  160          - 3900.00000      -   103  612s\n",
      " 48471  5409 infeasible  108               - 3900.00000      -   103  617s\n",
      " 49042  5535 3900.00000  146  131          - 3900.00000      -   104  622s\n",
      " 49447  5714 infeasible  112               - 3900.00000      -   106  627s\n",
      " 49841  5840 3900.00000  119  125          - 3900.00000      -   108  633s\n",
      " 50216  5936 infeasible  119               - 3900.00000      -   110  639s\n",
      " 50642  6115 3900.00000  135  203          - 3900.00000      -   112  647s\n",
      " 51235  6292 3900.00000  129  136          - 3900.00000      -   114  661s\n",
      " 52351  6641 3900.00000  129  156          - 3900.00000      -   115  687s\n",
      " 55214  6900 3900.00000   91  199          - 3900.00000      -   116  700s\n",
      " 56715  7080 3900.00000  200   96          - 3900.00000      -   119  713s\n",
      " 58566  7258 infeasible  230               - 3900.00000      -   119  726s\n",
      " 61171  7501 3900.00000  108  106          - 3900.00000      -   118  740s\n",
      " 64888  7519 infeasible  151               - 3900.00000      -   113  748s\n",
      " 66855  7741 3900.00000  108  125          - 3900.00000      -   112  754s\n",
      " 67778  7842 3900.00000  181   67          - 3900.00000      -   113  760s\n",
      " 68808  8087 3902.00861  149  215          - 3900.00000      -   114  769s\n"
     ]
    },
    {
     "ename": "",
     "evalue": "",
     "output_type": "error",
     "traceback": [
      "\u001b[1;31mCanceled future for execute_request message before replies were done"
     ]
    },
    {
     "ename": "",
     "evalue": "",
     "output_type": "error",
     "traceback": [
      "\u001b[1;31mThe Kernel crashed while executing code in the the current cell or a previous cell. Please review the code in the cell(s) to identify a possible cause of the failure. Click <a href='https://aka.ms/vscodeJupyterKernelCrash'>here</a> for more info. View Jupyter <a href='command:jupyter.viewOutput'>log</a> for further details."
     ]
    }
   ],
   "source": [
    "# create model\n",
    "m = Model()\n",
    "\n",
    "# generate variables (integers)\n",
    "var_dict = variables.generate_variables(m, dataframes)\n",
    "# generate variables\n",
    "B, OCCUPATIONS = contraintes.generate_contraintes(m, dataframes, var_dict)\n",
    "\n",
    "final_train_task = dataframes[\"sillons_df\"]\n",
    "final_train_task = final_train_task[final_train_task[\"JARR\"]==final_train_task[\"JARR\"].max()]\n",
    "final_train_task = final_train_task[final_train_task[\"HDEP\"]==final_train_task[\"HDEP\"].max()][\"train_id\"].iloc[0]\n",
    "final_train_task = var_dict[\"essai de frein départ\"][final_train_task]\n",
    "print(final_train_task)\n",
    "m.setObjective(final_train_task, GRB.MINIMIZE)\n",
    "\n",
    "m.update()\n",
    "m.printStats()\n",
    "# m.write(\"genconstr.mps\")\n",
    "# m.write(\"test.lp\")\n",
    "m.optimize()\n",
    "print(m.status)\n",
    "# m.write(\"test.lp\")\n",
    "\n",
    "show_solution(m)"
   ]
  },
  {
   "attachments": {},
   "cell_type": "markdown",
   "metadata": {},
   "source": [
    "Nodes    |    Current Node    |     Objective Bounds      |     Work\n",
    " Expl Unexpl |  Obj  Depth IntInf | Incumbent    BestBd   Gap | It/Node Time"
   ]
  },
  {
   "cell_type": "code",
   "execution_count": null,
   "metadata": {},
   "outputs": [],
   "source": [
    "##### Respect du nombre de voies de chantier #####\n",
    "#debug\n",
    "# print(B)\n",
    "\n",
    "\n",
    "\n",
    "taches_df = dataframes[\"taches_df\"]\n",
    "chantiers_df = dataframes[\"chantiers_df\"]\n",
    "chantier_cycles = {}\n",
    "for chantier in set(taches_df[\"Chantier\"].values):\n",
    "    chantier_cycles[chantier, \"end\"] = taches_df[taches_df[\"Chantier\"] == chantier][taches_df.Ordre ==\n",
    "                                                                                        taches_df[taches_df[\"Chantier\"] == chantier].Ordre.max()][\"Type de tache humaine\"].iloc[0]\n",
    "    chantier_cycles[chantier, \"start\"] = taches_df[taches_df[\"Chantier\"] == chantier][taches_df.Ordre ==\n",
    "                                                                                    taches_df[taches_df[\"Chantier\"] == chantier].Ordre.min()][\"Type de tache humaine\"].iloc[0]\n",
    "print(chantier_cycles)\n",
    "def get_all_tasks_by_name(name):\n",
    "    # print(\"get_all : \", name)\n",
    "    return var_dict[name].keys()\n",
    "def b(tache_i, tache_j, tache_name, duree=0):\n",
    "    if(tache_name,tache_j,tache_i) in B.keys():\n",
    "        # print(\"HEY === \",(tache_name,tache_j,tache_i))\n",
    "        bb = B[tache_name,tache_j,tache_i]\n",
    "        # print(bb.X, end=\",\")\n",
    "        return bb.X\n",
    "    elif (tache_name,tache_i,tache_j) in B.keys():\n",
    "        # print(\"HEY ELIF === \",(tache_name,tache_i,tache_j))\n",
    "        bb = B[tache_name,tache_i,tache_j]\n",
    "        # print(1-bb.X, end=\",\")\n",
    "        return 1-bb.X\n",
    "            \n",
    "        \n",
    "    else:\n",
    "        print(\"ERROR === \", (tache_name,tache_i,tache_j))\n",
    "               \n",
    "\n",
    "OCCUPATIONS = []\n",
    "def add_occupation_constr(chantier, tache_debut):\n",
    "    \n",
    "    occupation = 0 \n",
    "    occupation = sum([b(tache_chantier,\n",
    "                                tache_debut,\n",
    "                                chantier_cycles[chantier, \"start\"])\n",
    "                            for tache_chantier in get_all_tasks_by_name(chantier_cycles[chantier, \"start\"])])\n",
    "    duree = taches_df[taches_df[\"Type de tache humaine\"]\n",
    "                        == chantier_cycles[chantier, \"end\"]][\"Durée\"].iloc[0]\n",
    "    # print(occupation)\n",
    "    # print(\"-----------\")\n",
    "    \n",
    "    temp = sum([b(tache_chantier,\n",
    "                                            tache_debut,\n",
    "                                            chantier_cycles[chantier, \"end\"],\n",
    "                                            duree= duree)\n",
    "                                        for tache_chantier in get_all_tasks_by_name(chantier_cycles[chantier, \"end\"])])\n",
    "    # print(temp)\n",
    "    occupation = occupation -temp\n",
    "    if occupation!= 0 :print(\"NON ZERO\",occupation)\n",
    "    OCCUPATIONS.append(occupation)\n",
    "# for chantier in set(chantiers_df[\"Chantier\"].values):\n",
    "for chantier in [\"WPY_FOR\"]:\n",
    "    print(f\"Adding occupation constrainst for: {chantier}...\")\n",
    "    print(\"start task: \",chantier_cycles[chantier, \"start\"])\n",
    "    print(\"end task: \",chantier_cycles[chantier, \"end\"])\n",
    "    for tache_debut in get_all_tasks_by_name(chantier_cycles[chantier, \"start\"]):\n",
    "        add_occupation_constr(chantier, tache_debut)\n",
    "print(OCCUPATIONS)\n",
    "# print(B[(\"arrivée Reception\",\"43124608/08/202200:00:0011:0408/08/2022\",\"45023708/08/202200:00:0011:4708/08/2022\")])"
   ]
  },
  {
   "cell_type": "code",
   "execution_count": null,
   "metadata": {},
   "outputs": [],
   "source": [
    "# tests \n",
    "importlib.reload(contraintes)\n",
    "importlib.reload(variables)\n",
    "# create model\n",
    "m = Model()\n",
    "\n",
    "# generate variables (integers)\n",
    "var_dict = variables.generate_variables(m, dataframes)\n",
    "# generate variables\n",
    "contraintes.generate_contraintes(m, dataframes, var_dict)"
   ]
  }
 ],
 "metadata": {
  "kernelspec": {
   "display_name": "st7",
   "language": "python",
   "name": "python3"
  },
  "language_info": {
   "codemirror_mode": {
    "name": "ipython",
    "version": 3
   },
   "file_extension": ".py",
   "mimetype": "text/x-python",
   "name": "python",
   "nbconvert_exporter": "python",
   "pygments_lexer": "ipython3",
   "version": "3.9.15"
  },
  "orig_nbformat": 4,
  "vscode": {
   "interpreter": {
    "hash": "7b434065e2cdc05a5f5c63d7b8fefd02becf6c657fdc906fc2a634796f2f0d30"
   }
  }
 },
 "nbformat": 4,
 "nbformat_minor": 2
}
