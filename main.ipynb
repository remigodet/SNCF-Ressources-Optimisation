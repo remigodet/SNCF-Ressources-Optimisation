{
 "cells": [
  {
   "cell_type": "code",
   "execution_count": 1,
   "metadata": {},
   "outputs": [
    {
     "name": "stderr",
     "output_type": "stream",
     "text": [
      "LOADING DATA: 7it [01:13,  7.35s/it]                       "
     ]
    }
   ],
   "source": [
    "import importlib\n",
    "import data\n",
    "from gurobipy import *\n",
    "\n",
    "# get data from excel\n",
    "dataframes = data.get_all_pandas()"
   ]
  },
  {
   "cell_type": "code",
   "execution_count": 2,
   "metadata": {},
   "outputs": [
    {
     "data": {
      "text/plain": [
       "<module 'contraintes' from 'c:\\\\Users\\\\remgo\\\\Desktop\\\\ProjetST7\\\\git\\\\contraintes.py'>"
      ]
     },
     "execution_count": 2,
     "metadata": {},
     "output_type": "execute_result"
    }
   ],
   "source": [
    "import variables\n",
    "import contraintes\n",
    "import importlib\n",
    "importlib.reload(variables) #to remive in final .py\n",
    "importlib.reload(contraintes) #to remive in final .py"
   ]
  },
  {
   "cell_type": "code",
   "execution_count": 3,
   "metadata": {},
   "outputs": [],
   "source": [
    "from openpyxl import Workbook\n",
    "def show_solution(model):\n",
    "    # print(var_dict)\n",
    "    print(\"Objectif minimal: \", m.objVal)\n",
    "    #build excel of tasks\n",
    "    workbook = Workbook()\n",
    "    sheet = workbook.active\n",
    "\n",
    "    sheet[\"A1\"] = \"Id_tache\"\n",
    "    sheet[\"B1\"] = \"tache\"\n",
    "    sheet[\"C1\"] = \"minute\"\n",
    "    row = 2\n",
    "    for tache in var_dict.keys():\n",
    "        for sillon_id in var_dict[tache].keys():\n",
    "            sheet[f\"B{row}\"] = tache\n",
    "            sheet[f\"C{row}\"] = var_dict[tache][sillon_id].X\n",
    "            sheet[f\"A{row}\"] = sillon_id\n",
    "\n",
    "            row += 1\n",
    "\n",
    "\n",
    "    workbook.save(filename=\"results/hello_world.xlsx\")\n",
    "    \n"
   ]
  },
  {
   "cell_type": "code",
   "execution_count": 4,
   "metadata": {},
   "outputs": [
    {
     "name": "stdout",
     "output_type": "stream",
     "text": [
      "Set parameter Username\n",
      "Academic license - for non-commercial use only - expires 2024-01-26\n"
     ]
    },
    {
     "name": "stderr",
     "output_type": "stream",
     "text": [
      "Initialising variables: 100%|██████████| 217/217 [00:00<00:00, 340.50it/s]\n",
      "c:\\Users\\remgo\\Desktop\\ProjetST7\\git\\contraintes.py:175: UserWarning: Boolean Series key will be reindexed to match DataFrame index.\n",
      "  tache_precedante = taches_df[taches_df[\"Ordre\"] == ordre -\n",
      "c:\\Users\\remgo\\Desktop\\ProjetST7\\git\\contraintes.py:183: UserWarning: Boolean Series key will be reindexed to match DataFrame index.\n",
      "  list_wagons = list(correspondances_df[correspondances_df[\"train_id\"] ==\n",
      "c:\\Users\\remgo\\Desktop\\ProjetST7\\git\\contraintes.py:186: UserWarning: Boolean Series key will be reindexed to match DataFrame index.\n",
      "  sillon_arr = correspondances_df[correspondances_df[\"id_wagon\"] ==\n",
      "c:\\Users\\remgo\\Desktop\\ProjetST7\\git\\contraintes.py:280: UserWarning: Boolean Series key will be reindexed to match DataFrame index.\n",
      "  chantier_cycles[chantier, \"start\"] = taches_df[taches_df[\"Chantier\"] == chantier][taches_df.Ordre ==\n",
      "c:\\Users\\remgo\\Desktop\\ProjetST7\\git\\contraintes.py:282: UserWarning: Boolean Series key will be reindexed to match DataFrame index.\n",
      "  chantier_cycles[chantier, \"end\"] = taches_df[taches_df[\"Chantier\"] == chantier][taches_df.Ordre ==\n"
     ]
    },
    {
     "name": "stdout",
     "output_type": "stream",
     "text": [
      "Adding occupation constrainst for: WPY_REC...\n",
      "Adding occupation constrainst for: WPY_DEP...\n",
      "Adding occupation constrainst for: WPY_FOR...\n",
      "<gurobi.Var *Awaiting Model Update*>\n",
      "\n",
      "Statistics for modelUnnamed:\n",
      "  Linear constraint matrix    : 73028 Constrs, 106741 Vars, 214996 NZs\n",
      "  Variable types              : 0 Continuous,\n",
      "106741 Integer (104056 Binary)\n",
      "  General constraints         : 173642 Constrs\n",
      "  Matrix coefficient range    : [ 1, 2e+06 ]\n",
      "  Objective coefficient range : [ 1, 1 ]\n",
      "  Variable bound range        : [ 1, 1 ]\n",
      "  RHS coefficient range       : [ 15, 2.0094e+06 ]\n",
      "Presolve removed 2579 rows and 3124 columns (presolve time = 5s) ...\n",
      "Presolve removed 2579 rows and 3330 columns (presolve time = 21s) ...\n",
      "Presolve added 240649 rows and 239898 columns\n",
      "Presolve time: 21.40s\n",
      "\n",
      "Statistics for modelUnnamed:\n",
      "  Linear constraint matrix    : 73028 Constrs, 106741 Vars, 214996 NZs\n",
      "  Variable types              : 0 Continuous,\n",
      "106741 Integer (104056 Binary)\n",
      "  General constraints         : 173642 Constrs\n",
      "  Matrix coefficient range    : [ 1, 2e+06 ]\n",
      "  Objective coefficient range : [ 1, 1 ]\n",
      "  Variable bound range        : [ 1, 1 ]\n",
      "  RHS coefficient range       : [ 15, 2.0094e+06 ]\n",
      "Gurobi Optimizer version 10.0.0 build v10.0.0rc2 (win64)\n",
      "\n",
      "CPU model: AMD Ryzen 7 5800H with Radeon Graphics, instruction set [SSE2|AVX|AVX2]\n",
      "Thread count: 8 physical cores, 16 logical processors, using up to 16 threads\n",
      "\n",
      "Optimize a model with 73028 rows, 106741 columns and 214996 nonzeros\n",
      "Model fingerprint: 0x485bdc4e\n",
      "Model has 173642 general constraints\n",
      "Variable types: 0 continuous, 106741 integer (104056 binary)\n",
      "Coefficient statistics:\n",
      "  Matrix range     [1e+00, 2e+06]\n",
      "  Objective range  [1e+00, 1e+00]\n",
      "  Bounds range     [1e+00, 1e+00]\n",
      "  RHS range        [2e+01, 2e+06]\n",
      "  GenCon rhs range [5e-01, 2e+01]\n",
      "  GenCon coe range [1e+00, 1e+00]\n",
      "Presolve removed 2579 rows and 3124 columns (presolve time = 5s) ...\n",
      "Presolve removed 2579 rows and 3330 columns (presolve time = 21s) ...\n",
      "Presolve added 240649 rows and 239898 columns\n",
      "Presolve time: 21.25s\n",
      "Presolved: 313677 rows, 346639 columns, 868644 nonzeros\n",
      "Presolved model has 172350 SOS constraint(s)\n",
      "Variable types: 68940 continuous, 277699 integer (173749 binary)\n",
      "\n",
      "Deterministic concurrent LP optimizer: primal simplex, dual simplex, and barrier\n",
      "Showing barrier log only...\n",
      "\n",
      "Root barrier log...\n",
      "\n",
      "Ordering time: 0.00s\n",
      "\n",
      "Barrier statistics:\n",
      " Dense cols : 323\n",
      " AA' NZ     : 7.932e+04\n",
      " Factor NZ  : 1.414e+05 (roughly 45 MB of memory)\n",
      " Factor Ops : 2.707e+06 (less than 1 second per iteration)\n",
      " Threads    : 6\n",
      "\n",
      "                  Objective                Residual\n",
      "Iter       Primal          Dual         Primal    Dual     Compl     Time\n",
      "   0   1.29591072e+04 -3.51936281e+06  6.86e+02 0.00e+00  5.93e+01    28s\n",
      "   1   2.40369995e+03 -2.00284195e+06  1.17e+02 2.43e-02  1.73e+01    28s\n",
      "   2   5.66370158e+02 -1.68010599e+05  1.93e+01 7.23e-04  1.22e+00    29s\n",
      "   3   1.84139639e+02 -1.09635999e+04  2.31e-01 2.60e-05  7.72e-02    29s\n",
      "   4   1.79193173e+02  1.47283244e+02  8.35e-03 4.58e-08  2.21e-04    29s\n",
      "   5   1.79015261e+02  1.78997653e+02  6.80e-04 2.97e-12  1.22e-07    29s\n",
      "   6   1.79000000e+02  1.78999816e+02  7.19e-09 1.05e-11  1.29e-09    29s\n",
      "   7   1.79000000e+02  1.79000000e+02  1.14e-13 5.30e-17  1.30e-15    29s\n",
      "\n",
      "Barrier solved model in 7 iterations and 28.80 seconds (19.03 work units)\n",
      "Optimal objective 1.79000000e+02\n",
      "\n",
      "\n",
      "Root crossover log...\n",
      "\n",
      "       6 DPushes remaining with DInf 0.0000000e+00                29s\n",
      "Concurrent spin time: 0.06s\n",
      "\n",
      "Solved with primal simplex\n",
      "\n",
      "Root relaxation: objective 1.790000e+02, 1 iterations, 2.21 seconds (0.40 work units)\n",
      "Total elapsed time = 43.20s\n",
      "\n",
      "    Nodes    |    Current Node    |     Objective Bounds      |     Work\n",
      " Expl Unexpl |  Obj  Depth IntInf | Incumbent    BestBd   Gap | It/Node Time\n",
      "\n",
      "     0     0  179.00000    0 63621          -  179.00000      -     -   88s\n",
      "     0     0  179.00000    0 63608          -  179.00000      -     -  148s\n",
      "     0     0  179.00000    0 66103          -  179.00000      -     -  233s\n"
     ]
    }
   ],
   "source": [
    "# create model\n",
    "m = Model()\n",
    "\n",
    "# generate variables (integers)\n",
    "var_dict = variables.generate_variables(m, dataframes)\n",
    "# generate variables\n",
    "contraintes.generate_contraintes(m, dataframes, var_dict)\n",
    "\n",
    "final_train_task = dataframes[\"sillons_df\"]\n",
    "final_train_task = final_train_task[final_train_task[\"JARR\"]==final_train_task[\"JARR\"].max()]\n",
    "final_train_task = final_train_task[final_train_task[\"HDEP\"]==final_train_task[\"HDEP\"].max()][\"train_id\"].iloc[0]\n",
    "final_train_task = var_dict[\"essai de frein départ\"][final_train_task]\n",
    "print(final_train_task)\n",
    "m.setObjective(final_train_task, GRB.MINIMIZE)\n",
    "\n",
    "m.update()\n",
    "m.printStats()\n",
    "m.presolve()\n",
    "m.printStats()\n",
    "m.optimize()\n",
    "m.write(\"test.lp\")\n",
    "show_solution(m)"
   ]
  },
  {
   "cell_type": "code",
   "execution_count": null,
   "metadata": {},
   "outputs": [],
   "source": [
    "# tests \n",
    "importlib.reload(contraintes)\n",
    "importlib.reload(variables)\n",
    "# create model\n",
    "m = Model()\n",
    "\n",
    "# generate variables (integers)\n",
    "var_dict = variables.generate_variables(m, dataframes)\n",
    "# generate variables\n",
    "contraintes.generate_contraintes(m, dataframes, var_dict)"
   ]
  }
 ],
 "metadata": {
  "kernelspec": {
   "display_name": "st7",
   "language": "python",
   "name": "python3"
  },
  "language_info": {
   "codemirror_mode": {
    "name": "ipython",
    "version": 3
   },
   "file_extension": ".py",
   "mimetype": "text/x-python",
   "name": "python",
   "nbconvert_exporter": "python",
   "pygments_lexer": "ipython3",
   "version": "3.9.15"
  },
  "orig_nbformat": 4,
  "vscode": {
   "interpreter": {
    "hash": "7b434065e2cdc05a5f5c63d7b8fefd02becf6c657fdc906fc2a634796f2f0d30"
   }
  }
 },
 "nbformat": 4,
 "nbformat_minor": 2
}
