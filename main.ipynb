{
 "cells": [
  {
   "cell_type": "code",
   "execution_count": 38,
   "metadata": {},
   "outputs": [],
   "source": [
    "import data\n",
    "\n",
    "from gurobipy import *\n",
    "\n",
    "# get data from excel\n",
    "dataframes = data.get_all_pandas()"
   ]
  },
  {
   "cell_type": "code",
   "execution_count": 42,
   "metadata": {},
   "outputs": [
    {
     "data": {
      "text/plain": [
       "<module 'contraintes' from 'c:\\\\Users\\\\remgo\\\\Desktop\\\\ProjetST7\\\\git\\\\contraintes.py'>"
      ]
     },
     "execution_count": 42,
     "metadata": {},
     "output_type": "execute_result"
    }
   ],
   "source": [
    "import variables\n",
    "import contraintes\n",
    "import importlib\n",
    "importlib.reload(variables)\n",
    "importlib.reload(contraintes)"
   ]
  },
  {
   "cell_type": "code",
   "execution_count": 49,
   "metadata": {},
   "outputs": [
    {
     "name": "stdout",
     "output_type": "stream",
     "text": [
      "Number of anti-parallel constraints :  18\n",
      "\n",
      "Statistics for modelUnnamed:\n",
      "  Linear constraint matrix    : 18 Constrs, 30 Vars, 36 NZs\n",
      "  Variable types              : 0 Continuous,\n",
      "30 Integer\n",
      "  Matrix coefficient range    : [ 1, 1 ]\n",
      "  Objective coefficient range : [ 0, 0 ]\n",
      "  Variable bound range        : [ 0, 0 ]\n",
      "  RHS coefficient range       : [ 10, 20 ]\n",
      "Presolve removed 0 rows and 21 columns\n",
      "Presolve time: 0.00s\n",
      "Model is infeasible\n"
     ]
    },
    {
     "ename": "GurobiError",
     "evalue": "Unable to create presolved model",
     "output_type": "error",
     "traceback": [
      "\u001b[1;31m---------------------------------------------------------------------------\u001b[0m",
      "\u001b[1;31mGurobiError\u001b[0m                               Traceback (most recent call last)",
      "Cell \u001b[1;32mIn[49], line 16\u001b[0m\n\u001b[0;32m     14\u001b[0m m\u001b[39m.\u001b[39mupdate()\n\u001b[0;32m     15\u001b[0m m\u001b[39m.\u001b[39mprintStats()\n\u001b[1;32m---> 16\u001b[0m m\u001b[39m.\u001b[39;49mpresolve()\n\u001b[0;32m     17\u001b[0m m\u001b[39m.\u001b[39mprintStats()\n\u001b[0;32m     18\u001b[0m m\u001b[39m.\u001b[39moptimize()\n",
      "File \u001b[1;32msrc\\gurobipy\\model.pxi:2137\u001b[0m, in \u001b[0;36mgurobipy.Model.presolve\u001b[1;34m()\u001b[0m\n",
      "\u001b[1;31mGurobiError\u001b[0m: Unable to create presolved model"
     ]
    }
   ],
   "source": [
    "# create model\n",
    "m = Model()\n",
    "\n",
    "# generate variables (integers)\n",
    "var_dict = variables.generate_variables(m, dataframes)\n",
    "# generate variables\n",
    "contraintes.generate_contraintes(m, dataframes, var_dict)\n",
    "\n",
    "\n",
    "\n",
    "\n",
    "m.setObjective(0, GRB.MINIMIZE)\n",
    "\n",
    "m.update()\n",
    "m.printStats()\n",
    "m.presolve()\n",
    "m.printStats()\n",
    "m.optimize()\n",
    "\n",
    "# print(m.objVal)"
   ]
  }
 ],
 "metadata": {
  "kernelspec": {
   "display_name": "st7",
   "language": "python",
   "name": "python3"
  },
  "language_info": {
   "codemirror_mode": {
    "name": "ipython",
    "version": 3
   },
   "file_extension": ".py",
   "mimetype": "text/x-python",
   "name": "python",
   "nbconvert_exporter": "python",
   "pygments_lexer": "ipython3",
   "version": "3.9.15"
  },
  "orig_nbformat": 4,
  "vscode": {
   "interpreter": {
    "hash": "7b434065e2cdc05a5f5c63d7b8fefd02becf6c657fdc906fc2a634796f2f0d30"
   }
  }
 },
 "nbformat": 4,
 "nbformat_minor": 2
}
