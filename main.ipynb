{
 "cells": [
  {
   "cell_type": "code",
   "execution_count": 1,
   "metadata": {},
   "outputs": [
    {
     "name": "stdout",
     "output_type": "stream",
     "text": [
      "Set parameter Username\n",
      "Academic license - for non-commercial use only - expires 2024-02-09\n"
     ]
    }
   ],
   "source": [
    "import data\n",
    "\n",
    "from gurobipy import *\n",
    "\n",
    "\n",
    "# create model\n",
    "m = Model()\n",
    "\n",
    "# get data from excel\n",
    "dataframes = data.get_all_pandas()"
   ]
  },
  {
   "cell_type": "code",
   "execution_count": 2,
   "metadata": {},
   "outputs": [],
   "source": [
    "import variables\n",
    "import contraintes"
   ]
  },
  {
   "cell_type": "code",
   "execution_count": 3,
   "metadata": {},
   "outputs": [
    {
     "name": "stdout",
     "output_type": "stream",
     "text": [
      "0\n",
      "20\n",
      "0\n",
      "20\n",
      "0\n",
      "20\n",
      "0\n",
      "20\n",
      "0\n",
      "20\n",
      "0\n",
      "20\n",
      "0\n",
      "20\n",
      "0\n",
      "20\n",
      "0\n",
      "20\n",
      "1\n",
      "10\n",
      "1\n",
      "10\n",
      "1\n",
      "10\n",
      "1\n",
      "10\n",
      "1\n",
      "10\n",
      "1\n",
      "10\n",
      "1\n",
      "10\n",
      "1\n",
      "10\n",
      "1\n",
      "10\n",
      "2\n",
      "20\n",
      "2\n",
      "20\n",
      "2\n",
      "20\n",
      "2\n",
      "20\n",
      "2\n",
      "20\n",
      "2\n",
      "20\n",
      "2\n",
      "20\n",
      "2\n",
      "20\n",
      "2\n",
      "20\n"
     ]
    },
    {
     "ename": "GurobiError",
     "evalue": "Unable to convert argument to an expression",
     "output_type": "error",
     "traceback": [
      "\u001b[1;31m---------------------------------------------------------------------------\u001b[0m",
      "\u001b[1;31mGurobiError\u001b[0m                               Traceback (most recent call last)",
      "\u001b[1;32m~\\AppData\\Local\\Temp\\ipykernel_1832\\935148681.py\u001b[0m in \u001b[0;36m<module>\u001b[1;34m\u001b[0m\n\u001b[0;32m      6\u001b[0m \u001b[1;33m\u001b[0m\u001b[0m\n\u001b[0;32m      7\u001b[0m \u001b[1;33m\u001b[0m\u001b[0m\n\u001b[1;32m----> 8\u001b[1;33m \u001b[0mm\u001b[0m\u001b[1;33m.\u001b[0m\u001b[0msetObjective\u001b[0m\u001b[1;33m(\u001b[0m\u001b[1;32mlambda\u001b[0m \u001b[0mx\u001b[0m \u001b[1;33m:\u001b[0m \u001b[1;36m1\u001b[0m\u001b[1;33m,\u001b[0m \u001b[0mGRB\u001b[0m\u001b[1;33m.\u001b[0m\u001b[0mMINIMIZE\u001b[0m\u001b[1;33m)\u001b[0m\u001b[1;33m\u001b[0m\u001b[1;33m\u001b[0m\u001b[0m\n\u001b[0m\u001b[0;32m      9\u001b[0m \u001b[1;33m\u001b[0m\u001b[0m\n\u001b[0;32m     10\u001b[0m \u001b[0mm\u001b[0m\u001b[1;33m.\u001b[0m\u001b[0mupdate\u001b[0m\u001b[1;33m(\u001b[0m\u001b[1;33m)\u001b[0m\u001b[1;33m\u001b[0m\u001b[1;33m\u001b[0m\u001b[0m\n",
      "\u001b[1;32msrc\\gurobipy\\model.pxi\u001b[0m in \u001b[0;36mgurobipy.Model.setObjective\u001b[1;34m()\u001b[0m\n",
      "\u001b[1;32msrc\\gurobipy\\util.pxi\u001b[0m in \u001b[0;36mgurobipy.__simpleexpr\u001b[1;34m()\u001b[0m\n",
      "\u001b[1;31mGurobiError\u001b[0m: Unable to convert argument to an expression"
     ]
    }
   ],
   "source": [
    "\n",
    "\n",
    "# generate variables (integers)\n",
    "var_dict = variables.generate_variables(m, dataframes)\n",
    "contraintes.generate_contraintes(m, dataframes, var_dict)\n",
    "\n",
    "\n",
    "\n",
    "\n",
    "m.setObjective(1, GRB.MINIMIZE)\n",
    "\n",
    "m.update()\n",
    "m.optimize()\n",
    "\n",
    "print(m.objVal)"
   ]
  }
 ],
 "metadata": {
  "kernelspec": {
   "display_name": "base",
   "language": "python",
   "name": "python3"
  },
  "language_info": {
   "codemirror_mode": {
    "name": "ipython",
    "version": 3
   },
   "file_extension": ".py",
   "mimetype": "text/x-python",
   "name": "python",
   "nbconvert_exporter": "python",
   "pygments_lexer": "ipython3",
   "version": "3.9.13"
  },
  "orig_nbformat": 4,
  "vscode": {
   "interpreter": {
    "hash": "661a84e4b35c3224821e2c9408c88c5ac5d61e5a2d8e8256c54c4625094ae479"
   }
  }
 },
 "nbformat": 4,
 "nbformat_minor": 2
}
