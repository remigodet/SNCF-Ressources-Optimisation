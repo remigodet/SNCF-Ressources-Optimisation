{
 "cells": [
  {
   "cell_type": "code",
   "execution_count": 14,
   "metadata": {},
   "outputs": [],
   "source": [
    "import data\n",
    "\n",
    "from gurobipy import *\n",
    "\n",
    "\n",
    "# create model\n",
    "m = Model()\n",
    "\n",
    "# get data from excel\n",
    "dataframes = data.get_all_pandas()"
   ]
  },
  {
   "cell_type": "code",
   "execution_count": 22,
   "metadata": {},
   "outputs": [
    {
     "data": {
      "text/plain": [
       "<module 'contraintes' from 'c:\\\\Users\\\\remgo\\\\Desktop\\\\ProjetST7\\\\git\\\\contraintes.py'>"
      ]
     },
     "execution_count": 22,
     "metadata": {},
     "output_type": "execute_result"
    }
   ],
   "source": [
    "import variables\n",
    "import contraintes\n",
    "import importlib\n",
    "importlib.reload(variables)\n",
    "importlib.reload(contraintes)"
   ]
  },
  {
   "cell_type": "code",
   "execution_count": 24,
   "metadata": {},
   "outputs": [
    {
     "name": "stdout",
     "output_type": "stream",
     "text": [
      "Number of anti-parallel constraints :  36\n",
      "Gurobi Optimizer version 10.0.0 build v10.0.0rc2 (win64)\n",
      "\n",
      "CPU model: AMD Ryzen 7 5800H with Radeon Graphics, instruction set [SSE2|AVX|AVX2]\n",
      "Thread count: 8 physical cores, 16 logical processors, using up to 16 threads\n",
      "\n",
      "Optimize a model with 288 rows, 240 columns and 576 nonzeros\n",
      "Model fingerprint: 0x8e32e748\n",
      "Variable types: 0 continuous, 240 integer (0 binary)\n",
      "Coefficient statistics:\n",
      "  Matrix range     [1e+00, 1e+00]\n",
      "  Objective range  [0e+00, 0e+00]\n",
      "  Bounds range     [0e+00, 0e+00]\n",
      "  RHS range        [1e+01, 2e+01]\n",
      "Presolve removed 1 rows and 168 columns\n",
      "Presolve time: 0.00s\n",
      "\n",
      "Explored 0 nodes (0 simplex iterations) in 0.01 seconds (0.00 work units)\n",
      "Thread count was 1 (of 16 available processors)\n",
      "\n",
      "Solution count 0\n",
      "\n",
      "Model is infeasible\n",
      "Best objective -, best bound -, gap -\n"
     ]
    },
    {
     "ename": "AttributeError",
     "evalue": "Unable to retrieve attribute 'objVal'",
     "output_type": "error",
     "traceback": [
      "\u001b[1;31m---------------------------------------------------------------------------\u001b[0m",
      "\u001b[1;31mAttributeError\u001b[0m                            Traceback (most recent call last)",
      "Cell \u001b[1;32mIn[24], line 13\u001b[0m\n\u001b[0;32m     10\u001b[0m m\u001b[39m.\u001b[39mupdate()\n\u001b[0;32m     11\u001b[0m m\u001b[39m.\u001b[39moptimize()\n\u001b[1;32m---> 13\u001b[0m \u001b[39mprint\u001b[39m(m\u001b[39m.\u001b[39;49mobjVal)\n",
      "File \u001b[1;32msrc\\gurobipy\\model.pxi:354\u001b[0m, in \u001b[0;36mgurobipy.Model.__getattr__\u001b[1;34m()\u001b[0m\n",
      "File \u001b[1;32msrc\\gurobipy\\model.pxi:1918\u001b[0m, in \u001b[0;36mgurobipy.Model.getAttr\u001b[1;34m()\u001b[0m\n",
      "File \u001b[1;32msrc\\gurobipy\\attrutil.pxi:100\u001b[0m, in \u001b[0;36mgurobipy.__getattr\u001b[1;34m()\u001b[0m\n",
      "\u001b[1;31mAttributeError\u001b[0m: Unable to retrieve attribute 'objVal'"
     ]
    }
   ],
   "source": [
    "# generate variables (integers)\n",
    "var_dict = variables.generate_variables(m, dataframes)\n",
    "contraintes.generate_contraintes(m, dataframes, var_dict)\n",
    "\n",
    "\n",
    "\n",
    "\n",
    "m.setObjective(1, GRB.MINIMIZE)\n",
    "\n",
    "m.update()\n",
    "m.optimize()\n",
    "\n",
    "print(m.objVal)"
   ]
  }
 ],
 "metadata": {
  "kernelspec": {
   "display_name": "st7",
   "language": "python",
   "name": "python3"
  },
  "language_info": {
   "codemirror_mode": {
    "name": "ipython",
    "version": 3
   },
   "file_extension": ".py",
   "mimetype": "text/x-python",
   "name": "python",
   "nbconvert_exporter": "python",
   "pygments_lexer": "ipython3",
   "version": "3.9.15"
  },
  "orig_nbformat": 4,
  "vscode": {
   "interpreter": {
    "hash": "7b434065e2cdc05a5f5c63d7b8fefd02becf6c657fdc906fc2a634796f2f0d30"
   }
  }
 },
 "nbformat": 4,
 "nbformat_minor": 2
}
