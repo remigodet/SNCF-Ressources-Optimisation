{
 "cells": [
  {
   "cell_type": "code",
   "execution_count": 3,
   "metadata": {},
   "outputs": [
    {
     "name": "stderr",
     "output_type": "stream",
     "text": [
      "LOADING DATA: 7it [01:14, 10.71s/it]                       \n"
     ]
    }
   ],
   "source": [
    "import data\n",
    "import importlib\n",
    "importlib.reload(data) #to remive in final .py\n",
    "from gurobipy import *\n",
    "\n",
    "# get data from excel\n",
    "dataframes = data.get_all_pandas()"
   ]
  },
  {
   "cell_type": "code",
   "execution_count": 6,
   "metadata": {},
   "outputs": [
    {
     "data": {
      "text/plain": [
       "<module 'contraintes' from 'c:\\\\Users\\\\remgo\\\\Desktop\\\\ProjetST7\\\\git\\\\contraintes.py'>"
      ]
     },
     "execution_count": 6,
     "metadata": {},
     "output_type": "execute_result"
    }
   ],
   "source": [
    "import variables\n",
    "import contraintes\n",
    "import importlib\n",
    "importlib.reload(variables) #to remive in final .py\n",
    "importlib.reload(contraintes) #to remive in final .py"
   ]
  },
  {
   "cell_type": "code",
   "execution_count": 7,
   "metadata": {},
   "outputs": [],
   "source": [
    "def show_solution(model):\n",
    "    # print(var_dict)\n",
    "    print(\"Objectif minimal: \", m.objVal)\n",
    "    #build excel of tasks\n",
    "    workbook = Workbook()\n",
    "    sheet = workbook.active\n",
    "\n",
    "    sheet[\"A1\"] = \"Id_tache\"\n",
    "    sheet[\"B1\"] = \"tache\"\n",
    "    sheet[\"C1\"] = \"minute\"\n",
    "    row = 2\n",
    "    for tache in var_dict.keys():\n",
    "        for sillon_id in var_dict[tache].keys():\n",
    "            sheet[f\"B{row}\"] = tache\n",
    "            sheet[f\"C{row}\"] = var_dict[tache][sillon_id].X\n",
    "            sheet[f\"A{row}\"] = sillon_id\n",
    "\n",
    "            row += 1\n",
    "\n",
    "\n",
    "    workbook.save(filename=\"results/hello_world.xlsx\")\n",
    "    \n"
   ]
  },
  {
   "cell_type": "code",
   "execution_count": null,
   "metadata": {},
   "outputs": [
    {
     "ename": "NameError",
     "evalue": "name 'm' is not defined",
     "output_type": "error",
     "traceback": [
      "\u001b[1;31m---------------------------------------------------------------------------\u001b[0m",
      "\u001b[1;31mNameError\u001b[0m                                 Traceback (most recent call last)",
      "Cell \u001b[1;32mIn[2], line 1\u001b[0m\n\u001b[1;32m----> 1\u001b[0m show_solution(m)\n",
      "\u001b[1;31mNameError\u001b[0m: name 'm' is not defined"
     ]
    }
   ],
   "source": [
    "#show_solution(m)"
   ]
  },
  {
   "cell_type": "code",
   "execution_count": 8,
   "metadata": {},
   "outputs": [
    {
     "ename": "SyntaxError",
     "evalue": "invalid character '°' (U+00B0) (2964704333.py, line 23)",
     "output_type": "error",
     "traceback": [
      "\u001b[1;36m  Cell \u001b[1;32mIn[8], line 23\u001b[1;36m\u001b[0m\n\u001b[1;33m    n°train = sillons_df[sillons_df[\"train_id\"]==var_dict_train_id][\"n°TRAIN\"].iloc[0]\u001b[0m\n\u001b[1;37m     ^\u001b[0m\n\u001b[1;31mSyntaxError\u001b[0m\u001b[1;31m:\u001b[0m invalid character '°' (U+00B0)\n"
     ]
    }
   ],
   "source": [
    "# create model\n",
    "m = Model()\n",
    "\n",
    "# generate variables (integers)\n",
    "var_dict = variables.generate_variables(m, dataframes)\n",
    "# generate variables\n",
    "contraintes.generate_contraintes(m, dataframes, var_dict)\n",
    "\n",
    "final_train_task = dataframes[\"sillons_df\"]\n",
    "final_train_task = final_train_task[final_train_task[\"JARR\"]==final_train_task[\"JARR\"].max()]\n",
    "final_train_task = final_train_task[final_train_task[\"HDEP\"]==final_train_task[\"HDEP\"].max()][\"train_id\"].iloc[0]\n",
    "final_train_task = var_dict[\"essai de frein départ\"][final_train_task]\n",
    "print(final_train_task)\n",
    "m.setObjective(final_train_task, GRB.MINIMIZE)\n",
    "\n",
    "m.update()\n",
    "m.printStats()\n",
    "m.presolve()\n",
    "m.printStats()\n",
    "m.optimize()\n",
    "m.write(\"test.lp\")\n",
    "show_solution(m)"
   ]
  },
  {
   "cell_type": "code",
   "execution_count": null,
   "metadata": {},
   "outputs": [
    {
     "name": "stderr",
     "output_type": "stream",
     "text": [
      "Initialising variables: 100%|██████████| 217/217 [00:00<00:00, 889.35it/s]\n",
      "c:\\Users\\remgo\\Desktop\\ProjetST7\\git\\contraintes.py:104: UserWarning: Boolean Series key will be reindexed to match DataFrame index.\n",
      "  1][taches_df[\"Type de train\"] == type_train][\"Type de tache humaine\"].iloc[0]\n"
     ]
    },
    {
     "name": "stdout",
     "output_type": "stream",
     "text": [
      "540\n",
      "Adding occupation constrainst for: WPY_DEP...\n"
     ]
    },
    {
     "name": "stderr",
     "output_type": "stream",
     "text": [
      "c:\\Users\\remgo\\Desktop\\ProjetST7\\git\\contraintes.py:150: UserWarning: Boolean Series key will be reindexed to match DataFrame index.\n",
      "  taches_df[taches_df[\"Chantier\"] == chantier].Ordre.max()][\"Type de tache humaine\"].iloc[0]\n",
      "c:\\Users\\remgo\\Desktop\\ProjetST7\\git\\contraintes.py:152: UserWarning: Boolean Series key will be reindexed to match DataFrame index.\n",
      "  taches_df[taches_df[\"Chantier\"] == chantier].Ordre.min()][\"Type de tache humaine\"].iloc[0]\n"
     ]
    },
    {
     "name": "stdout",
     "output_type": "stream",
     "text": [
      "Adding occupation constrainst for: WPY_REC...\n",
      "Adding occupation constrainst for: WPY_FOR...\n"
     ]
    }
   ],
   "source": [
    "# tests \n",
    "importlib.reload(contraintes)\n",
    "importlib.reload(variables)\n",
    "# create model\n",
    "m = Model()\n",
    "\n",
    "# generate variables (integers)\n",
    "var_dict = variables.generate_variables(m, dataframes)\n",
    "# generate variables\n",
    "contraintes.generate_contraintes(m, dataframes, var_dict)"
   ]
  }
 ],
 "metadata": {
  "kernelspec": {
   "display_name": "st7",
   "language": "python",
   "name": "python3"
  },
  "language_info": {
   "codemirror_mode": {
    "name": "ipython",
    "version": 3
   },
   "file_extension": ".py",
   "mimetype": "text/x-python",
   "name": "python",
   "nbconvert_exporter": "python",
   "pygments_lexer": "ipython3",
   "version": "3.9.15"
  },
  "orig_nbformat": 4,
  "vscode": {
   "interpreter": {
    "hash": "7b434065e2cdc05a5f5c63d7b8fefd02becf6c657fdc906fc2a634796f2f0d30"
   }
  }
 },
 "nbformat": 4,
 "nbformat_minor": 2
}
