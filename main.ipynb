{
      "cells": [
            {
                  "cell_type": "code",
                  "execution_count": null,
                  "metadata": {},
                  "outputs": [],
                  "source": [
                        "import importlib\n",
                        "import data\n",
                        "from gurobipy import *\n",
                        "\n",
                        "# get data from excel\n",
                        "dataframes = data.get_all_pandas()"
                  ]
            },
            {
                  "cell_type": "code",
                  "execution_count": null,
                  "metadata": {},
                  "outputs": [],
                  "source": [
                        "from openpyxl import Workbook\n",
                        "from datetime import datetime\n",
                        "from utils import min_to_jour\n",
                        "\n",
                        "def show_solution(model):\n",
                        "    # print(var_dict)\n",
                        "    print(\"Objectif minimal: \", m.objVal)\n",
                        "    #build excel of tasks\n",
                        "    workbook = Workbook()\n",
                        "    sheet = workbook.active\n",
                        "    sillons_df = dataframes[\"sillons_df\"]\n",
                        "    taches_df = dataframes[\"taches_df\"]\n",
                        "    machines_df = dataframes[\"machines_df\"]\n",
                        "\n",
                        "    sheet[\"A1\"] = \"Id_tache\"\n",
                        "    sheet[\"B1\"] = \"Type de tache\"\n",
                        "    sheet[\"C1\"] = \"Jour\"\n",
                        "    sheet[\"D1\"] = \"HDébut\"\n",
                        "    sheet[\"E1\"] = \"Durée\"\n",
                        "    sheet[\"F1\"] = \"Sillon\"\n",
                        "    sheet[\"G1\"] = \"Minute\"\n",
                        "    row = 2\n",
                        "    for tache in var_dict.keys():\n",
                        "        for sillon_id in var_dict[tache].keys():\n",
                        "            sheet[f\"B{row}\"] = tache\n",
                        "            sheet[f\"A{row}\"] = tache + \"_\" + sillon_id\n",
                        "            sheet[f\"C{row}\"] = min_to_jour(var_dict[tache][sillon_id].X)[0]\n",
                        "            sheet[f\"D{row}\"] = min_to_jour(var_dict[tache][sillon_id].X)[1]\n",
                        "            if tache in list(machines_df[\"Machine\"]):\n",
                        "                sheet[f\"E{row}\"] = machines_df[machines_df[\"Machine\"] == tache][\"Duree \"].iloc[0]\n",
                        "            elif tache in list(taches_df[\"Type de tache humaine\"]): \n",
                        "                sheet[f\"E{row}\"] = taches_df[taches_df[\"Type de tache humaine\"] == tache][\"Durée\"].iloc[0]\n",
                        "            sheet[f\"F{row}\"] = sillon_id\n",
                        "            sheet[f\"G{row}\"] = var_dict[tache][sillon_id].X\n",
                        "            row += 1\n",
                        "\n",
                        "    currentDateAndTime = datetime.now().strftime(\"%d-%m_%H-%M-%S\")\n",
                        "    workbook.save(filename=f\"results/{data.NAME}-{currentDateAndTime}.xlsx\")\n",
                        "# show_solution(m)\n"
                  ]
            },
            {
                  "cell_type": "code",
                  "execution_count": null,
                  "metadata": {},
                  "outputs": [],
                  "source": [
                        "import variables\n",
                        "import contraintes\n",
                        "import importlib\n",
                        "import utils\n",
                        "importlib.reload(variables) #to remive in final .py\n",
                        "\n",
                        "importlib.reload(utils)"
                  ]
            },
            {
                  "cell_type": "code",
                  "execution_count": null,
                  "metadata": {},
                  "outputs": [],
                  "source": [
                        "# create model\n",
                        "importlib.reload(contraintes) #to remive in final .py\n",
                        "m = Model()\n",
                        "\n",
                        "# generate variables (integers)\n",
                        "var_dict = variables.generate_variables(m, dataframes)\n",
                        "# generate variables\n",
                        "B, OCCUPATIONS = contraintes.generate_contraintes(m, dataframes, var_dict)\n",
                        "\n",
                        "final_train_task = dataframes[\"sillons_df\"].copy()\n",
                        "final_train_task = final_train_task[final_train_task[\"LDEP\"]==\"WPY\"]\n",
                        "final_train_task = final_train_task[final_train_task[\"JARR\"]==final_train_task[\"JARR\"].max()]\n",
                        "# final_train_task = final_train_task[final_train_task[\"HDEP\"]==final_train_task[\"HDEP\"].max()][\"train_id\"].iloc[0]\n",
                        "# final_train_task = var_dict[\"essai de frein départ\"][final_train_task]\n",
                        "final_train_task = quicksum([var_dict[\"essai de frein départ\"][temp] for temp in list(final_train_task[\"train_id\"])])\n",
                        "print(final_train_task)\n",
                        "m.setObjective(final_train_task, GRB.MINIMIZE)\n",
                        "# autre idée : maximiser la moyenne de l'ecart entre frein de depart et HDEP\n",
                        "# aute idee minimiser occupation\n",
                        "m.update()\n",
                        "# m.printStats()\n",
                        "# m.write(\"genconstr.mps\")\n",
                        "# m.write(\"test.lp\")\n",
                        "m.optimize()\n",
                        "# m.write(\"test.lp\")\n",
                        "\n",
                        "show_solution(m)"
                  ]
            },
            {
                  "attachments": {},
                  "cell_type": "markdown",
                  "metadata": {},
                  "source": [
                        "Nodes    |    Current Node    |     Objective Bounds      |     Work\n",
                        " Expl Unexpl |  Obj  Depth IntInf | Incumbent    BestBd   Gap | It/Node Time"
                  ]
            },
            {
                  "cell_type": "code",
                  "execution_count": null,
                  "metadata": {},
                  "outputs": [],
                  "source": [
                        "##### Respect du nombre de voies de chantier #####\n",
                        "# print(len(OCCUPATIONS))\n",
                        "# print(OCCUPATIONS[0])\n",
                        "# print(type(OCCUPATIONS[0]))\n",
                        "# print(OCCUPATIONS[0].getValue())\n",
                        "chantiers_df = dataframes[\"chantiers_df\"]\n",
                        "L = [[],[],[]]\n",
                        "limits = [chantiers_df[chantiers_df[\"Chantier\"]==\"WPY_REC\"][\"Nombre de voies\"].iloc[0],\n",
                        "          chantiers_df[chantiers_df[\"Chantier\"]==\"WPY_FOR\"][\"Nombre de voies\"].iloc[0],\n",
                        "          chantiers_df[chantiers_df[\"Chantier\"]==\"WPY_DEP\"][\"Nombre de voies\"].iloc[0]]\n",
                        "for line_expr in OCCUPATIONS[\"DEB\"]:\n",
                        "    v = line_expr.getValue()\n",
                        "    \n",
                        "    if v == limits[0]:\n",
                        "        print(\"DEB limite atteinte\")\n",
                        "    if v > limits[0]:\n",
                        "        print(\"DEB limite DEPASSEE\")\n",
                        "        \n",
                        "    L[0].append(v)\n",
                        "    \n",
                        "for line_expr in OCCUPATIONS[\"FOR\"]:\n",
                        "    v = line_expr.getValue()\n",
                        "    if v == limits[1]:\n",
                        "        print(\"FOR limite atteinte\")\n",
                        "    if v > limits[1]:\n",
                        "        print(\"FOR limite DEPASSEE\")\n",
                        "    L[1].append(v)\n",
                        "\n",
                        "\n",
                        "for line_expr in OCCUPATIONS[\"DEG\"]:\n",
                        "    v = line_expr.getValue()\n",
                        "    if v == limits[2]:\n",
                        "        print(\"DEG limite atteinte\")\n",
                        "    if v > limits[2]:\n",
                        "        print(\"DEG limite DEPASSEE\")\n",
                        "    L[2].append(v)\n",
                        "L\n"
                  ]
            },
            {
                  "cell_type": "code",
                  "execution_count": null,
                  "metadata": {},
                  "outputs": [],
                  "source": [
                        "# tests \n",
                        "importlib.reload(contraintes)\n",
                        "importlib.reload(variables)\n",
                        "# create model\n",
                        "m = Model()\n",
                        "\n",
                        "# generate variables (integers)\n",
                        "var_dict = variables.generate_variables(m, dataframes)\n",
                        "# generate variables\n",
                        "contraintes.generate_contraintes(m, dataframes, var_dict)"
                  ]
            },
            {
                  "cell_type": "code",
                  "execution_count": null,
                  "metadata": {},
                  "outputs": [],
                  "source": [
                        "show_solution(m)"
                  ]
            }
      ],
      "metadata": {
            "kernelspec": {
                  "display_name": "st7",
                  "language": "python",
                  "name": "python3"
            },
            "language_info": {
                  "codemirror_mode": {
                        "name": "ipython",
                        "version": 3
                  },
                  "file_extension": ".py",
                  "mimetype": "text/x-python",
                  "name": "python",
                  "nbconvert_exporter": "python",
                  "pygments_lexer": "ipython3",
                  "version": "3.9.15"
            },
            "orig_nbformat": 4,
            "vscode": {
                  "interpreter": {
                        "hash": "7b434065e2cdc05a5f5c63d7b8fefd02becf6c657fdc906fc2a634796f2f0d30"
                  }
            }
      },
      "nbformat": 4,
      "nbformat_minor": 2
}
