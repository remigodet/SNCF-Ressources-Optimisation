{
 "cells": [
  {
   "cell_type": "code",
   "execution_count": 1,
   "metadata": {},
   "outputs": [],
   "source": [
    "import data\n",
    "\n",
    "from gurobipy import *\n",
    "\n",
    "# get data from excel\n",
    "dataframes = data.get_all_pandas()"
   ]
  },
  {
   "cell_type": "code",
   "execution_count": 9,
   "metadata": {},
   "outputs": [
    {
     "data": {
      "text/plain": [
       "<module 'contraintes' from 'c:\\\\Users\\\\remgo\\\\Desktop\\\\ProjetST7\\\\git\\\\contraintes.py'>"
      ]
     },
     "execution_count": 9,
     "metadata": {},
     "output_type": "execute_result"
    }
   ],
   "source": [
    "import variables\n",
    "import contraintes\n",
    "import importlib\n",
    "importlib.reload(variables)\n",
    "importlib.reload(contraintes)"
   ]
  },
  {
   "cell_type": "code",
   "execution_count": null,
   "metadata": {},
   "outputs": [],
   "source": [
    "def show_solution():\n",
    "    print(var_dict)"
   ]
  },
  {
   "cell_type": "code",
   "execution_count": 10,
   "metadata": {},
   "outputs": [
    {
     "name": "stdout",
     "output_type": "stream",
     "text": [
      "Number of anti-parallel constraints :  0\n",
      "\n",
      "Statistics for modelUnnamed:\n",
      "  Linear constraint matrix    : 36 Constrs, 48 Vars, 108 NZs\n",
      "  Variable types              : 0 Continuous,\n",
      "48 Integer (18 Binary)\n",
      "  General constraints         : 18 Constrs\n",
      "  Matrix coefficient range    : [ 1, 1e+06 ]\n",
      "  Objective coefficient range : [ 0, 0 ]\n",
      "  Variable bound range        : [ 1, 1 ]\n",
      "  RHS coefficient range       : [ 10, 999990 ]\n",
      "Presolve removed 18 rows and 33 columns\n",
      "Presolve time: 0.03s\n",
      "\n",
      "Statistics for modelUnnamed:\n",
      "  Linear constraint matrix    : 36 Constrs, 48 Vars, 108 NZs\n",
      "  Variable types              : 0 Continuous,\n",
      "48 Integer (18 Binary)\n",
      "  General constraints         : 18 Constrs\n",
      "  Matrix coefficient range    : [ 1, 1e+06 ]\n",
      "  Objective coefficient range : [ 0, 0 ]\n",
      "  Variable bound range        : [ 1, 1 ]\n",
      "  RHS coefficient range       : [ 10, 999990 ]\n",
      "Gurobi Optimizer version 10.0.0 build v10.0.0rc2 (win64)\n",
      "\n",
      "CPU model: AMD Ryzen 7 5800H with Radeon Graphics, instruction set [SSE2|AVX|AVX2]\n",
      "Thread count: 8 physical cores, 16 logical processors, using up to 16 threads\n",
      "\n",
      "Optimize a model with 36 rows, 48 columns and 108 nonzeros\n",
      "Model fingerprint: 0x1ee6f59a\n",
      "Model has 18 general constraints\n",
      "Variable types: 0 continuous, 48 integer (18 binary)\n",
      "Coefficient statistics:\n",
      "  Matrix range     [1e+00, 1e+06]\n",
      "  Objective range  [0e+00, 0e+00]\n",
      "  Bounds range     [1e+00, 1e+00]\n",
      "  RHS range        [1e+01, 1e+06]\n",
      "  GenCon coe range [1e+00, 1e+00]\n",
      "Presolve removed 18 rows and 33 columns\n",
      "Presolve time: 0.00s\n",
      "Presolved: 18 rows, 15 columns, 54 nonzeros\n",
      "Presolved model has 6 SOS constraint(s)\n",
      "Variable types: 0 continuous, 15 integer (6 binary)\n",
      "Found heuristic solution: objective 0.0000000\n",
      "\n",
      "Explored 0 nodes (0 simplex iterations) in 0.01 seconds (0.00 work units)\n",
      "Thread count was 16 (of 16 available processors)\n",
      "\n",
      "Solution count 1: 0 \n",
      "\n",
      "Optimal solution found (tolerance 1.00e-04)\n",
      "Best objective 0.000000000000e+00, best bound 0.000000000000e+00, gap 0.0000%\n"
     ]
    }
   ],
   "source": [
    "# create model\n",
    "m = Model()\n",
    "\n",
    "# generate variables (integers)\n",
    "var_dict = variables.generate_variables(m, dataframes)\n",
    "# generate variables\n",
    "contraintes.generate_contraintes(m, dataframes, var_dict)\n",
    "\n",
    "\n",
    "\n",
    "\n",
    "m.setObjective(0, GRB.MINIMIZE)\n",
    "\n",
    "m.update()\n",
    "m.printStats()\n",
    "m.presolve()\n",
    "m.printStats()\n",
    "m.optimize()\n",
    "\n",
    "# print(m.objVal)\n",
    "show_solution()"
   ]
  }
 ],
 "metadata": {
  "kernelspec": {
   "display_name": "st7",
   "language": "python",
   "name": "python3"
  },
  "language_info": {
   "codemirror_mode": {
    "name": "ipython",
    "version": 3
   },
   "file_extension": ".py",
   "mimetype": "text/x-python",
   "name": "python",
   "nbconvert_exporter": "python",
   "pygments_lexer": "ipython3",
   "version": "3.9.15"
  },
  "orig_nbformat": 4,
  "vscode": {
   "interpreter": {
    "hash": "7b434065e2cdc05a5f5c63d7b8fefd02becf6c657fdc906fc2a634796f2f0d30"
   }
  }
 },
 "nbformat": 4,
 "nbformat_minor": 2
}
