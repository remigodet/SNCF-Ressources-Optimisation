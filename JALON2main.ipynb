{
      "cells": [
            {
                  "cell_type": "code",
                  "execution_count": 1,
                  "metadata": {},
                  "outputs": [
                        {
                              "name": "stderr",
                              "output_type": "stream",
                              "text": [
                                    "LOADING DATA: 8it [00:37,  3.17s/it]                       "
                              ]
                        }
                  ],
                  "source": [
                        "import importlib\n",
                        "import data\n",
                        "from gurobipy import *\n",
                        "\n",
                        "# get data from excel\n",
                        "dataframes = data.get_all_pandas()"
                  ]
            },
            {
                  "cell_type": "code",
                  "execution_count": 2,
                  "metadata": {},
                  "outputs": [],
                  "source": [
                        "from openpyxl import Workbook\n",
                        "from datetime import datetime\n",
                        "from utils import min_to_jour\n",
                        "\n",
                        "def show_solution(model):\n",
                        "    # print(var_dict)\n",
                        "    print(\"Objectif minimal: \", m.objVal)\n",
                        "    #build excel of tasks\n",
                        "    workbook = Workbook()\n",
                        "    sheet = workbook.active\n",
                        "    sillons_df = dataframes[\"sillons_df\"]\n",
                        "    taches_df = dataframes[\"taches_df\"]\n",
                        "    machines_df = dataframes[\"machines_df\"]\n",
                        "\n",
                        "    sheet[\"A1\"] = \"Id_tache\"\n",
                        "    sheet[\"B1\"] = \"Type de tache\"\n",
                        "    sheet[\"C1\"] = \"Jour\"\n",
                        "    sheet[\"D1\"] = \"HDébut\"\n",
                        "    sheet[\"E1\"] = \"Durée\"\n",
                        "    sheet[\"F1\"] = \"Sillon\"\n",
                        "    sheet[\"G1\"] = \"Minute\"\n",
                        "    row = 2\n",
                        "    for tache in var_dict.keys():\n",
                        "        for sillon_id in var_dict[tache].keys():\n",
                        "            sheet[f\"B{row}\"] = tache\n",
                        "            sheet[f\"A{row}\"] = tache + \"_\" + sillon_id\n",
                        "            sheet[f\"C{row}\"] = min_to_jour(var_dict[tache][sillon_id].X)[0]\n",
                        "            sheet[f\"D{row}\"] = min_to_jour(var_dict[tache][sillon_id].X)[1]\n",
                        "            if tache in list(machines_df[\"Machine\"]):\n",
                        "                sheet[f\"E{row}\"] = machines_df[machines_df[\"Machine\"] == tache][\"Duree \"].iloc[0]\n",
                        "            elif tache in list(taches_df[\"Type de tache humaine\"]): \n",
                        "                sheet[f\"E{row}\"] = taches_df[taches_df[\"Type de tache humaine\"] == tache][\"Durée\"].iloc[0]\n",
                        "            sheet[f\"F{row}\"] = sillon_id\n",
                        "            sheet[f\"G{row}\"] = var_dict[tache][sillon_id].X\n",
                        "            row += 1\n",
                        "\n",
                        "    currentDateAndTime = datetime.now().strftime(\"%d-%m_%H-%M-%S\")\n",
                        "    workbook.save(filename=f\"results/{data.NAME}-{currentDateAndTime}.xlsx\")\n",
                        "# show_solution(m)\n"
                  ]
            },
            {
                  "cell_type": "code",
                  "execution_count": 3,
                  "metadata": {},
                  "outputs": [
                        {
                              "data": {
                                    "text/plain": [
                                          "<module 'utils' from 'c:\\\\Users\\\\remgo\\\\Desktop\\\\ProjetST7\\\\git\\\\utils.py'>"
                                    ]
                              },
                              "execution_count": 3,
                              "metadata": {},
                              "output_type": "execute_result"
                        }
                  ],
                  "source": [
                        "import variables\n",
                        "import contraintes\n",
                        "import contraintesJ2\n",
                        "import importlib\n",
                        "import utils\n",
                        "importlib.reload(variables) #to remive in final .py\n",
                        "\n",
                        "importlib.reload(utils)"
                  ]
            },
            {
                  "cell_type": "code",
                  "execution_count": 5,
                  "metadata": {},
                  "outputs": [
                        {
                              "data": {
                                    "application/vnd.jupyter.widget-view+json": {
                                          "model_id": "fef1bbbe5121456ab81549a26ad1166c",
                                          "version_major": 2,
                                          "version_minor": 0
                                    },
                                    "text/plain": [
                                          "Initialising variables:   0%|          | 0/217 [00:00<?, ?it/s]"
                                    ]
                              },
                              "metadata": {},
                              "output_type": "display_data"
                        },
                        {
                              "name": "stdout",
                              "output_type": "stream",
                              "text": [
                                    "\n"
                              ]
                        },
                        {
                              "data": {
                                    "application/vnd.jupyter.widget-view+json": {
                                          "model_id": "37d74aca333747328196144bec8fa0d0",
                                          "version_major": 2,
                                          "version_minor": 0
                                    },
                                    "text/plain": [
                                          "Link variables:   0%|          | 0/5 [00:00<?, ?it/s]"
                                    ]
                              },
                              "metadata": {},
                              "output_type": "display_data"
                        },
                        {
                              "data": {
                                    "application/vnd.jupyter.widget-view+json": {
                                          "model_id": "c1fcc539770b4b80b28247f9760d034c",
                                          "version_major": 2,
                                          "version_minor": 0
                                    },
                                    "text/plain": [
                                          "BUILDING CONSTRAINTS:   0%|          | 0/8 [00:00<?, ?it/s]"
                                    ]
                              },
                              "metadata": {},
                              "output_type": "display_data"
                        },
                        {
                              "name": "stdout",
                              "output_type": "stream",
                              "text": [
                                    "\n"
                              ]
                        },
                        {
                              "data": {
                                    "application/vnd.jupyter.widget-view+json": {
                                          "model_id": "a67d1faf91e44fa5ac184164432269a9",
                                          "version_major": 2,
                                          "version_minor": 0
                                    },
                                    "text/plain": [
                                          "BUILDING CONSTRAINTS FOR J2:   0%|          | 0/4 [00:00<?, ?it/s]"
                                    ]
                              },
                              "metadata": {},
                              "output_type": "display_data"
                        },
                        {
                              "ename": "KeyError",
                              "evalue": "('arrivée Reception', '4126409/08/202200:0022:3309/08/2022', 'roulement_reception', 1, 1, 1)",
                              "output_type": "error",
                              "traceback": [
                                    "\u001b[1;31m---------------------------------------------------------------------------\u001b[0m",
                                    "\u001b[1;31mKeyError\u001b[0m                                  Traceback (most recent call last)",
                                    "Cell \u001b[1;32mIn[5], line 10\u001b[0m\n\u001b[0;32m      8\u001b[0m \u001b[39m# generate variables\u001b[39;00m\n\u001b[0;32m      9\u001b[0m B, OCCUPATIONS \u001b[39m=\u001b[39m contraintes\u001b[39m.\u001b[39mgenerate_contraintes(m, dataframes, var_dict)\n\u001b[1;32m---> 10\u001b[0m contraintesJ2\u001b[39m.\u001b[39;49mgenerate_contraintes(m, dataframes, var_dict, links_dict)\n\u001b[0;32m     12\u001b[0m final_train_task \u001b[39m=\u001b[39m dataframes[\u001b[39m\"\u001b[39m\u001b[39msillons_df\u001b[39m\u001b[39m\"\u001b[39m]\u001b[39m.\u001b[39mcopy()\n\u001b[0;32m     13\u001b[0m final_train_task \u001b[39m=\u001b[39m final_train_task[final_train_task[\u001b[39m\"\u001b[39m\u001b[39mLDEP\u001b[39m\u001b[39m\"\u001b[39m]\u001b[39m==\u001b[39m\u001b[39m\"\u001b[39m\u001b[39mWPY\u001b[39m\u001b[39m\"\u001b[39m]\n",
                                    "File \u001b[1;32mc:\\Users\\remgo\\Desktop\\ProjetST7\\git\\contraintesJ2.py:55\u001b[0m, in \u001b[0;36mgenerate_contraintes\u001b[1;34m(m, dataframes, var_dict, links_dict)\u001b[0m\n\u001b[0;32m     52\u001b[0m     \u001b[39mfor\u001b[39;00m tache_name \u001b[39min\u001b[39;00m taches_df[taches_df[\u001b[39m\"\u001b[39m\u001b[39mChantier\u001b[39m\u001b[39m\"\u001b[39m]\u001b[39m==\u001b[39mchantier][\u001b[39m\"\u001b[39m\u001b[39mType de tache humaine\u001b[39m\u001b[39m\"\u001b[39m]:\n\u001b[0;32m     53\u001b[0m         \u001b[39mfor\u001b[39;00m target_tache \u001b[39min\u001b[39;00m var_dict[tache_name]\u001b[39m.\u001b[39mkeys():\n\u001b[0;32m     54\u001b[0m             \u001b[39m# all vars \u001b[39;00m\n\u001b[1;32m---> 55\u001b[0m             temp\u001b[39m.\u001b[39mappend(links_dict[tache_name,target_tache,roulement,a,j,c])\n\u001b[0;32m     56\u001b[0m \u001b[39m# indicatrice == sum of JDS of cycle\u001b[39;00m\n\u001b[0;32m     57\u001b[0m var \u001b[39m=\u001b[39m m\u001b[39m.\u001b[39maddVar(vtype\u001b[39m=\u001b[39mGRB\u001b[39m.\u001b[39mINTEGER,name\u001b[39m=\u001b[39m \u001b[39m\"\u001b[39m\u001b[39mHELPER with single cycle per worked day\u001b[39m\u001b[39m\"\u001b[39m)\n",
                                    "\u001b[1;31mKeyError\u001b[0m: ('arrivée Reception', '4126409/08/202200:0022:3309/08/2022', 'roulement_reception', 1, 1, 1)"
                              ]
                        }
                  ],
                  "source": [
                        "\n",
                        "#to remive in final .py\n",
                        "importlib.reload(utils)\n",
                        "importlib.reload(variables)\n",
                        "importlib.reload(contraintes) \n",
                        "importlib.reload(contraintesJ2)\n",
                        "# create model\n",
                        "m = Model()\n",
                        "\n",
                        "# generate variables (integers)\n",
                        "var_dict = variables.generate_variablesJ1(m, dataframes)\n",
                        "links_dict = variables.generate_variablesJ2(m,var_dict,dataframes)\n",
                        "# generate variables\n",
                        "B, OCCUPATIONS = contraintes.generate_contraintes(m, dataframes, var_dict)\n",
                        "contraintesJ2.generate_contraintes(m, dataframes, var_dict, links_dict)\n",
                        "\n",
                        "final_train_task = dataframes[\"sillons_df\"].copy()\n",
                        "final_train_task = final_train_task[final_train_task[\"LDEP\"]==\"WPY\"]\n",
                        "final_train_task = final_train_task[final_train_task[\"JARR\"]==final_train_task[\"JARR\"].max()]\n",
                        "# final_train_task = final_train_task[final_train_task[\"HDEP\"]==final_train_task[\"HDEP\"].max()][\"train_id\"].iloc[0]\n",
                        "# final_train_task = var_dict[\"essai de frein départ\"][final_train_task]\n",
                        "final_train_task = quicksum([var_dict[\"essai de frein départ\"][temp] for temp in list(final_train_task[\"train_id\"])])\n",
                        "print(final_train_task)\n",
                        "m.setObjective(final_train_task, GRB.MINIMIZE)\n",
                        "# autre idée : maximiser la moyenne de l'ecart entre frein de depart et HDEP\n",
                        "# aute idee minimiser occupation\n",
                        "m.update()\n",
                        "# m.printStats()\n",
                        "# m.write(\"genconstr.mps\")\n",
                        "# m.write(\"test.lp\")\n",
                        "m.optimize()\n",
                        "# m.write(\"test.lp\")\n",
                        "\n",
                        "show_solution(m)"
                  ]
            },
            {
                  "attachments": {},
                  "cell_type": "markdown",
                  "metadata": {},
                  "source": [
                        "Nodes    |    Current Node    |     Objective Bounds      |     Work\n",
                        " Expl Unexpl |  Obj  Depth IntInf | Incumbent    BestBd   Gap | It/Node Time"
                  ]
            },
            {
                  "cell_type": "code",
                  "execution_count": null,
                  "metadata": {},
                  "outputs": [],
                  "source": [
                        "# tests \n",
                        "importlib.reload(contraintes)\n",
                        "importlib.reload(contraintesJ2)\n",
                        "importlib.reload(variables)\n",
                        "importlib.reload(utils)\n",
                        "# create model\n",
                        "m = Model()\n",
                        "# generate variables (integers)\n",
                        "var_dict = variables.generate_variablesJ1(m, dataframes)\n",
                        "links_dict = variables.generate_variablesJ2(m,var_dict,dataframes)\n",
                        "# generate constraints \n",
                        "# contraintes.generate_contraintes(m, dataframes, var_dict)\n",
                        "contraintesJ2.generate_contraintes(m, dataframes, var_dict, links_dict)\n",
                        "\n",
                        "# deposer solution jalon1  et jalon 2 maybe # new objectif ??\n",
                        "# add excels for jalon 2 in show solution"
                  ]
            },
            {
                  "cell_type": "code",
                  "execution_count": null,
                  "metadata": {},
                  "outputs": [],
                  "source": [
                        "show_solution(m)"
                  ]
            }
      ],
      "metadata": {
            "kernelspec": {
                  "display_name": "st7",
                  "language": "python",
                  "name": "python3"
            },
            "language_info": {
                  "codemirror_mode": {
                        "name": "ipython",
                        "version": 3
                  },
                  "file_extension": ".py",
                  "mimetype": "text/x-python",
                  "name": "python",
                  "nbconvert_exporter": "python",
                  "pygments_lexer": "ipython3",
                  "version": "3.9.15"
            },
            "orig_nbformat": 4,
            "vscode": {
                  "interpreter": {
                        "hash": "7b434065e2cdc05a5f5c63d7b8fefd02becf6c657fdc906fc2a634796f2f0d30"
                  }
            }
      },
      "nbformat": 4,
      "nbformat_minor": 2
}
