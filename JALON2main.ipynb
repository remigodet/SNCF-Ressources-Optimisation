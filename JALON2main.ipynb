{
      "cells": [
            {
                  "cell_type": "code",
                  "execution_count": 1,
                  "metadata": {},
                  "outputs": [
                        {
                              "name": "stderr",
                              "output_type": "stream",
                              "text": [
                                    "LOADING DATA: 8it [00:00, 12.89it/s]                       "
                              ]
                        }
                  ],
                  "source": [
                        "import importlib\n",
                        "import data\n",
                        "from gurobipy import *\n",
                        "import time\n",
                        "t1 = time.time()\n",
                        "# get data from excel\n",
                        "dataframes = data.get_all_pandas()"
                  ]
            },
            {
                  "cell_type": "code",
                  "execution_count": 2,
                  "metadata": {},
                  "outputs": [],
                  "source": [
                        "##### Respect du nombre de voies de chantier #####\n",
                        "def retrieve_occupations(OCCUPATIONS):\n",
                        "    # print(len(OCCUPATIONS))\n",
                        "    # print(OCCUPATIONS[0])\n",
                        "    # print(type(OCCUPATIONS[0]))\n",
                        "    # print(OCCUPATIONS[0].getValue())\n",
                        "    chantiers_df = dataframes[\"chantiers_df\"]\n",
                        "    L = {}\n",
                        "    occupation_limits = [chantiers_df[chantiers_df[\"Chantier\"]==\"WPY_REC\"][\"Nombre de voies\"].iloc[0],\n",
                        "            chantiers_df[chantiers_df[\"Chantier\"]==\"WPY_FOR\"][\"Nombre de voies\"].iloc[0],\n",
                        "            chantiers_df[chantiers_df[\"Chantier\"]==\"WPY_DEP\"][\"Nombre de voies\"].iloc[0]]\n",
                        "    for tache_name, sillon_id, line_expr in OCCUPATIONS[\"DEB\"]:\n",
                        "        v = line_expr.getValue()\n",
                        "        \n",
                        "        # if v == occupation_limits[0]:\n",
                        "        #     print(\"DEB limite atteinte\")\n",
                        "        if v > occupation_limits[0]:\n",
                        "            print(\"DEB limite DEPASSEE\")\n",
                        "            \n",
                        "        L[tache_name, sillon_id] = v\n",
                        "        \n",
                        "    for tache_name, sillon_id, line_expr in OCCUPATIONS[\"FOR\"]:\n",
                        "        v = line_expr.getValue()\n",
                        "        # if v == occupation_limits[1]:\n",
                        "        #     print(\"FOR limite atteinte\")\n",
                        "        if v > occupation_limits[1]:\n",
                        "            print(\"FOR limite DEPASSEE\")\n",
                        "        L[tache_name, sillon_id] = v\n",
                        "\n",
                        "\n",
                        "    for tache_name, sillon_id, line_expr in OCCUPATIONS[\"DEG\"]:\n",
                        "        v = line_expr.getValue()\n",
                        "        # if v == occupation_limits[2]:\n",
                        "        #     print(\"DEG limite atteinte\")\n",
                        "        if v > occupation_limits[2]:\n",
                        "            print(\"DEG limite DEPASSEE\")\n",
                        "        L[tache_name, sillon_id] = v\n",
                        "    return L,occupation_limits\n"
                  ]
            },
            {
                  "cell_type": "code",
                  "execution_count": 9,
                  "metadata": {},
                  "outputs": [],
                  "source": [
                        "# Excel builder\n",
                        "from openpyxl import Workbook\n",
                        "from datetime import datetime\n",
                        "from utils import min_to_jour\n",
                        "import utils\n",
                        "\n",
                        "def show_solution(model, debug=False):\n",
                        "    # print(var_dict)\n",
                        "    print(\"Objectif minimal: \", m.objVal)\n",
                        "    #build excel of tasks\n",
                        "    workbook = Workbook()\n",
                        "    sheet = workbook.active\n",
                        "    sillons_df = dataframes[\"sillons_df\"]\n",
                        "    taches_df = dataframes[\"taches_df\"]\n",
                        "    machines_df = dataframes[\"machines_df\"]\n",
                        "    L, occupation_limits = retrieve_occupations(OCCUPATIONS)\n",
                        "    occupation_keys = L.keys()\n",
                        "\n",
                        "    sheet[\"A1\"] = \"Id_tache\"\n",
                        "    sheet[\"B1\"] = \"Type de tache\"\n",
                        "    sheet[\"C1\"] = \"Jour\"\n",
                        "    sheet[\"D1\"] = \"HDébut\"\n",
                        "    sheet[\"E1\"] = \"Durée\"\n",
                        "    sheet[\"F1\"] = \"Sillon\"\n",
                        "    sheet[\"G1\"] = \"Minute\"\n",
                        "    sheet[\"H1\"] = \"Occupation\"\n",
                        "    sheet[\"I1\"] = \"Journée de service RAJC\"\n",
                        "    row = 2\n",
                        "    for tache in var_dict.keys():\n",
                        "        for sillon_id in var_dict[tache].keys():\n",
                        "            try:\n",
                        "                \n",
                        "                \n",
                        "                sheet[f\"B{row}\"] = tache\n",
                        "                sheet[f\"A{row}\"] = tache + \"_\" + sillon_id\n",
                        "                sheet[f\"C{row}\"] = min_to_jour(var_dict[tache][sillon_id].X)[0]\n",
                        "                sheet[f\"D{row}\"] = min_to_jour(var_dict[tache][sillon_id].X)[1]\n",
                        "                if tache in list(machines_df[\"Machine\"]):\n",
                        "                    sheet[f\"E{row}\"] = machines_df[machines_df[\"Machine\"] == tache][\"Duree \"].iloc[0]\n",
                        "                elif tache in list(taches_df[\"Type de tache humaine\"]): \n",
                        "                    sheet[f\"E{row}\"] = taches_df[taches_df[\"Type de tache humaine\"] == tache][\"Durée\"].iloc[0]\n",
                        "                sheet[f\"F{row}\"] = sillon_id\n",
                        "                sheet[f\"G{row}\"] = var_dict[tache][sillon_id].X\n",
                        "                if (tache, sillon_id) in occupation_keys:\n",
                        "                    sheet[f\"H{row}\"] = L[tache, sillon_id]\n",
                        "                if tache not in list(machines_df[\"Machine\"]):\n",
                        "                    duree = int(taches_df[taches_df[\"Type de tache humaine\"]==tache][\"Durée\"].iloc[0]) \n",
                        "                    test_unique_jds = 0\n",
                        "                    for tache_key, sillon_id_key, r,a,j,c in links_dict.keys():\n",
                        "                        if tache_key==tache and sillon_id_key==sillon_id and links_dict[tache_key, sillon_id_key, r,a,j,c].X == 1:\n",
                        "                            if test_unique_jds>=1:\n",
                        "                                print(\"ERROR ON J2.C1\", test_unique_jds, tache, sillon_id, r,a,j,c )\n",
                        "                            test_unique_jds += 1\n",
                        "                            jds_tsring = f\"{r}, {a}, {j}, {c}\"\n",
                        "                            # check JDS is correct\n",
                        "                            if True:\n",
                        "                                min_start, min_end = utils.get_min_from_rajc(r,j,c, dataframes[\"roulements_df\"])\n",
                        "                                # print(min_start, var_dict[tache][sillon_id].X, min_end)\n",
                        "                                # print(duree)\n",
                        "                                assert min_start <= var_dict[tache][sillon_id].X and var_dict[tache][sillon_id].X + duree <= min_end , f\"JDS: {r,a,j,c},min_start: {min_start}, task: {var_dict[tache][sillon_id].X}, min_end: {min_end}\"\n",
                        "                try:\n",
                        "                    sheet[f\"I{row}\"] = jds_tsring + f\"INFO : minute start : {min_start}, minute end : {min_end}\"\n",
                        "                except:\n",
                        "                    raise Exception(\"JDS not found, \",tache, sillon_id)\n",
                        "                row += 1\n",
                        "            except:\n",
                        "                if not debug:\n",
                        "                    raise Exception(f\"Error on task : {tache}, sillon {sillon_id}\")\n",
                        "    \n",
                        "    ##ocupation\n",
                        "    \n",
                        "    occupation_sheet = workbook.create_sheet(\"Occupation\")\n",
                        "    sheet = occupation_sheet\n",
                        "    sheet[\"A1\"] = \"Mesure\"\n",
                        "    sheet[\"B1\"] = \"WPY_REC\"\n",
                        "    sheet[\"C1\"] = \"WPY_FOR\"\n",
                        "    sheet[\"D1\"] = \"WPY_DEP\"\n",
                        "    \n",
                        "    \n",
                        "    sheet[\"A2\"] = \"Taux max occupation\"\n",
                        "    sheet[\"A3\"] = \"Nb max occupation\"\n",
                        "    sheet[\"A4\"] = \"Nb max par chantier\"\n",
                        "    \n",
                        "    chantier = \"WPY_REC\"\n",
                        "    occupation_max = max([L[\"arrivée Reception\", sillon_id_key] for tache_name_key, sillon_id_key in L.keys() if tache_name_key == \"arrivée Reception\" ])\n",
                        "    capacity = occupation_limits[0]\n",
                        "    sheet[\"B2\"] = 100*occupation_max/capacity\n",
                        "    sheet[\"B3\"] = occupation_max\n",
                        "    sheet[\"B4\"] = capacity\n",
                        "    \n",
                        "    chantier = \"WPY_FOR\"\n",
                        "    occupation_max = max([L[\"débranchement\", sillon_id_key] for tache_name_key, sillon_id_key in L.keys() if tache_name_key == \"débranchement\" ])\n",
                        "    capacity = occupation_limits[1]\n",
                        "    sheet[\"C2\"] = 100*occupation_max/capacity\n",
                        "    sheet[\"C3\"] = occupation_max\n",
                        "    sheet[\"C4\"] = capacity\n",
                        "    \n",
                        "    chantier = \"WPY_DEP\"\n",
                        "    \n",
                        "    occupation_max =max([L[\"dégarage / bouger de rame\", sillon_id_key] for tache_name_key, sillon_id_key in L.keys() if tache_name_key == \"dégarage / bouger de rame\" ])\n",
                        "    capacity = occupation_limits[2]\n",
                        "    sheet[\"D2\"] = 100*occupation_max/capacity\n",
                        "    sheet[\"D3\"] = occupation_max\n",
                        "    sheet[\"D4\"] = capacity\n",
                        "\n",
                        "    \n",
                        "    ##jds \n",
                        "    \n",
                        "    jds_sheet = workbook.create_sheet(\"JDS\")\n",
                        "    sheet = jds_sheet\n",
                        "    sheet[\"A1\"] = \"jds\"\n",
                        "    sheet[\"B1\"] = \"Used ?\"\n",
                        "    sheet[\"C1\"] = \"Nb of tasks\"\n",
                        "    sheet[\"E1\"] = \"Nb of jds / Roulement\"\n",
                        "    sheet[\"F1\"] = \"Nb of jds total\"\n",
                        "    nb_jds = {}\n",
                        "    idx=2\n",
                        "    for (roulement,a,jour,c) in all_active_jds.keys():\n",
                        "        if roulement not in nb_jds.keys():\n",
                        "            nb_jds[roulement] = 0\n",
                        "        nb_jds[roulement] += all_active_jds[roulement,a,jour,c][0].X\n",
                        "        sheet[f\"A{idx}\"] = f\"{roulement},{a},{jour},{c}\"\n",
                        "        sheet[f\"B{idx}\"] = all_active_jds[roulement,a,jour,c][0].X\n",
                        "        sheet[f\"C{idx}\"] = all_active_jds[roulement,a,jour,c][1].getValue()\n",
                        "        idx += 1\n",
                        "    idx = 2\n",
                        "    temp=0\n",
                        "    for roulement in nb_jds.keys():\n",
                        "        sheet[f\"D{idx}\"] = roulement\n",
                        "        sheet[f\"E{idx}\"] = nb_jds[roulement]\n",
                        "        temp += nb_jds[roulement]\n",
                        "        idx += 1\n",
                        "    sheet[\"F2\"] = temp\n",
                        "    \n",
                        "    currentDateAndTime = datetime.now().strftime(\"%d-%m_%H-%M-%S\")\n",
                        "    workbook.save(filename=f\"results/{data.NAME}-{currentDateAndTime}.xlsx\")\n",
                        "# show_solution(m)\n"
                  ]
            },
            {
                  "cell_type": "code",
                  "execution_count": 4,
                  "metadata": {},
                  "outputs": [
                        {
                              "data": {
                                    "text/plain": [
                                          "<module 'utils' from 'c:\\\\Users\\\\remgo\\\\Desktop\\\\ProjetST7\\\\git\\\\utils.py'>"
                                    ]
                              },
                              "execution_count": 4,
                              "metadata": {},
                              "output_type": "execute_result"
                        }
                  ],
                  "source": [
                        "# imports\n",
                        "import variables\n",
                        "import contraintes\n",
                        "import contraintesJ2\n",
                        "import importlib\n",
                        "import utils\n",
                        "import objectif\n",
                        "importlib.reload(variables) #to remive in final .py\n",
                        "\n",
                        "importlib.reload(utils)"
                  ]
            },
            {
                  "attachments": {},
                  "cell_type": "markdown",
                  "metadata": {},
                  "source": [
                        "================================================="
                  ]
            },
            {
                  "cell_type": "code",
                  "execution_count": 5,
                  "metadata": {},
                  "outputs": [
                        {
                              "name": "stdout",
                              "output_type": "stream",
                              "text": [
                                    "Set parameter Username\n",
                                    "Academic license - for non-commercial use only - expires 2024-01-26\n"
                              ]
                        },
                        {
                              "data": {
                                    "application/vnd.jupyter.widget-view+json": {
                                          "model_id": "8210eb790e544ca18149ec71a7beb898",
                                          "version_major": 2,
                                          "version_minor": 0
                                    },
                                    "text/plain": [
                                          "Initialising variables:   0%|          | 0/36 [00:00<?, ?it/s]"
                                    ]
                              },
                              "metadata": {},
                              "output_type": "display_data"
                        },
                        {
                              "name": "stdout",
                              "output_type": "stream",
                              "text": [
                                    "\n"
                              ]
                        },
                        {
                              "data": {
                                    "application/vnd.jupyter.widget-view+json": {
                                          "model_id": "2e7b4a6cab23486496a5ce911cf608bd",
                                          "version_major": 2,
                                          "version_minor": 0
                                    },
                                    "text/plain": [
                                          "Link variables:   0%|          | 0/2 [00:00<?, ?it/s]"
                                    ]
                              },
                              "metadata": {},
                              "output_type": "display_data"
                        },
                        {
                              "data": {
                                    "application/vnd.jupyter.widget-view+json": {
                                          "model_id": "7e58161f6e9c40c3a05cc6325f5b660c",
                                          "version_major": 2,
                                          "version_minor": 0
                                    },
                                    "text/plain": [
                                          "BUILDING CONSTRAINTS FOR J1:   0%|          | 0/8 [00:00<?, ?it/s]"
                                    ]
                              },
                              "metadata": {},
                              "output_type": "display_data"
                        },
                        {
                              "name": "stdout",
                              "output_type": "stream",
                              "text": [
                                    "\n"
                              ]
                        },
                        {
                              "name": "stderr",
                              "output_type": "stream",
                              "text": [
                                    "c:\\Users\\remgo\\Desktop\\ProjetST7\\git\\contraintes.py:197: UserWarning: Boolean Series key will be reindexed to match DataFrame index.\n",
                                    "  tache_precedante = taches_df[taches_df[\"Ordre\"] == ordre -\n",
                                    "c:\\Users\\remgo\\Desktop\\ProjetST7\\git\\contraintes.py:206: UserWarning: Boolean Series key will be reindexed to match DataFrame index.\n",
                                    "  list_wagons = list(correspondances_df[correspondances_df[\"train_id\"] ==\n",
                                    "c:\\Users\\remgo\\Desktop\\ProjetST7\\git\\contraintes.py:209: UserWarning: Boolean Series key will be reindexed to match DataFrame index.\n",
                                    "  sillon_arr = correspondances_df[correspondances_df[\"id_wagon\"] ==\n",
                                    "c:\\Users\\remgo\\Desktop\\ProjetST7\\git\\contraintes.py:361: UserWarning: Boolean Series key will be reindexed to match DataFrame index.\n",
                                    "  antecedents_sillon_for = [correspondances_df[correspondances_df[\"id_wagon\"] == wagon][correspondances_df[\"LDEP\"] != \"WPY\"][\"train_id\"].iloc[0]\n"
                              ]
                        },
                        {
                              "data": {
                                    "application/vnd.jupyter.widget-view+json": {
                                          "model_id": "d97aef1692b34d90904957df4e9870d9",
                                          "version_major": 2,
                                          "version_minor": 0
                                    },
                                    "text/plain": [
                                          "BUILDING CONSTRAINTS FOR J2:   0%|          | 0/4 [00:00<?, ?it/s]"
                                    ]
                              },
                              "metadata": {},
                              "output_type": "display_data"
                        },
                        {
                              "name": "stdout",
                              "output_type": "stream",
                              "text": [
                                    "8592\n",
                                    "Starting C4\n"
                              ]
                        },
                        {
                              "data": {
                                    "application/vnd.jupyter.widget-view+json": {
                                          "model_id": "c1d3594afe7f4b38ae75add61b38d87a",
                                          "version_major": 2,
                                          "version_minor": 0
                                    },
                                    "text/plain": [
                                          "  0%|          | 0/4296 [00:00<?, ?it/s]"
                                    ]
                              },
                              "metadata": {},
                              "output_type": "display_data"
                        },
                        {
                              "name": "stderr",
                              "output_type": "stream",
                              "text": [
                                    "LOADING DATA: 8it [00:20, 12.89it/s]"
                              ]
                        }
                  ],
                  "source": [
                        "# GO\n",
                        "#to remive in final .py\n",
                        "importlib.reload(utils)\n",
                        "importlib.reload(variables)\n",
                        "importlib.reload(contraintes) \n",
                        "importlib.reload(contraintesJ2)\n",
                        "importlib.reload(objectif)\n",
                        "# create model\n",
                        "m = Model()\n",
                        "\n",
                        "# generate variables (integers)\n",
                        "var_dict = variables.generate_variablesJ1(m, dataframes)\n",
                        "links_dict = variables.generate_variablesJ2(m,var_dict,dataframes)\n",
                        "# generate variables\n",
                        "B, OCCUPATIONS, max_horizon = contraintes.generate_contraintes(m, dataframes, var_dict)\n",
                        "contraintesJ2.generate_contraintes(m, dataframes, var_dict, links_dict)\n",
                        "\n",
                        "# final_train_task = dataframes[\"sillons_df\"].copy()\n",
                        "# final_train_task = final_train_task[final_train_task[\"LDEP\"]==\"WPY\"]\n",
                        "# final_train_task = final_train_task[final_train_task[\"JARR\"]==final_train_task[\"JARR\"].max()]\n",
                        "# # final_train_task = final_train_task[final_train_task[\"HDEP\"]==final_train_task[\"HDEP\"].max()][\"train_id\"].iloc[0]\n",
                        "# # final_train_task = var_dict[\"essai de frein départ\"][final_train_task]\n",
                        "# final_train_task = quicksum([var_dict[\"essai de frein départ\"][temp] for temp in list(final_train_task[\"train_id\"])])\n",
                        "# print(final_train_task)\n"
                  ]
            },
            {
                  "cell_type": "code",
                  "execution_count": 6,
                  "metadata": {},
                  "outputs": [
                        {
                              "data": {
                                    "application/vnd.jupyter.widget-view+json": {
                                          "model_id": "614c739ee9354a1991c34832d4ac8c8a",
                                          "version_major": 2,
                                          "version_minor": 0
                                    },
                                    "text/plain": [
                                          "Create JdS objective:   0%|          | 0/2 [00:00<?, ?it/s]"
                                    ]
                              },
                              "metadata": {},
                              "output_type": "display_data"
                        },
                        {
                              "name": "stdout",
                              "output_type": "stream",
                              "text": [
                                    "Gurobi Optimizer version 10.0.0 build v10.0.0rc2 (win64)\n",
                                    "\n",
                                    "CPU model: AMD Ryzen 7 5800H with Radeon Graphics, instruction set [SSE2|AVX|AVX2]\n",
                                    "Thread count: 8 physical cores, 16 logical processors, using up to 16 threads\n",
                                    "\n",
                                    "Optimize a model with 3857 rows, 263645 columns and 14422 nonzeros\n",
                                    "Model fingerprint: 0x0a209a1b\n",
                                    "Model has 4296 quadratic constraints\n",
                                    "Model has 523382 general constraints\n",
                                    "Variable types: 0 continuous, 263645 integer (262150 binary)\n",
                                    "Coefficient statistics:\n",
                                    "  Matrix range     [1e+00, 2e+06]\n",
                                    "  QMatrix range    [1e+00, 1e+00]\n",
                                    "  QLMatrix range   [1e+00, 1e+00]\n",
                                    "  Objective range  [1e+00, 1e+00]\n",
                                    "  Bounds range     [1e+00, 1e+04]\n",
                                    "  RHS range        [1e+00, 2e+06]\n",
                                    "  QRHS range       [1e+00, 1e+00]\n",
                                    "  GenCon rhs range [5e-01, 1e+04]\n",
                                    "  GenCon coe range [1e+00, 1e+00]\n",
                                    "Presolve removed 796516 rows and 1038331 columns (presolve time = 5s) ...\n",
                                    "Presolve removed 3189 rows and 263235 columns\n",
                                    "Presolve time: 6.00s\n",
                                    "Presolved: 1301 rows, 773 columns, 3849 nonzeros\n",
                                    "Variable types: 0 continuous, 773 integer (747 binary)\n",
                                    "Found heuristic solution: objective 30.0000000\n",
                                    "Found heuristic solution: objective 28.0000000\n",
                                    "\n",
                                    "Root simplex log...\n",
                                    "\n",
                                    "Iteration    Objective       Primal Inf.    Dual Inf.      Time\n",
                                    "       0    2.4000000e+01   6.772813e+02   0.000000e+00      6s\n",
                                    "\n",
                                    "Root relaxation: cutoff, 364 iterations, 0.01 seconds (0.00 work units)\n",
                                    "\n",
                                    "    Nodes    |    Current Node    |     Objective Bounds      |     Work\n",
                                    " Expl Unexpl |  Obj  Depth IntInf | Incumbent    BestBd   Gap | It/Node Time\n",
                                    "\n",
                                    "     0     0     cutoff    0        28.00000   28.00000  0.00%     -    6s\n",
                                    "\n",
                                    "Explored 1 nodes (364 simplex iterations) in 6.26 seconds (6.16 work units)\n",
                                    "Thread count was 16 (of 16 available processors)\n",
                                    "\n",
                                    "Solution count 2: 28 30 \n",
                                    "\n",
                                    "Optimal solution found (tolerance 1.00e-04)\n",
                                    "Best objective 2.800000000000e+01, best bound 2.800000000000e+01, gap 0.0000%\n"
                              ]
                        }
                  ],
                  "source": [
                        "\n",
                        "importlib.reload(objectif)\n",
                        "\n",
                        "# mono obj\n",
                        "all_active_jds, objectif_expr = objectif.get_objectif(m, var_dict, links_dict, dataframes)\n",
                        "m.setObjective(objectif_expr, GRB.MINIMIZE)\n",
                        "\n",
                        "\n",
                        "# multiobjo :\n",
                        "# all_active_jds, _ = objectif.get_objectif(m, var_dict, links_dict, dataframes, multiobjo=True)\n",
                        "# m.Params.preSparsify = 2\n",
                        "m.update()\n",
                        "m.optimize()\n"
                  ]
            },
            {
                  "attachments": {},
                  "cell_type": "markdown",
                  "metadata": {},
                  "source": [
                        "Nodes    |    Current Node    |     Objective Bounds      |     Work\n",
                        " Expl Unexpl |  Obj  Depth IntInf | Incumbent    BestBd   Gap | It/Node Time"
                  ]
            },
            {
                  "cell_type": "code",
                  "execution_count": 7,
                  "metadata": {},
                  "outputs": [
                        {
                              "name": "stdout",
                              "output_type": "stream",
                              "text": [
                                    "76.22808790206909\n"
                              ]
                        }
                  ],
                  "source": [
                        "t2 = time.time()\n",
                        "print(t2-t1)"
                  ]
            },
            {
                  "cell_type": "code",
                  "execution_count": 10,
                  "metadata": {},
                  "outputs": [
                        {
                              "name": "stdout",
                              "output_type": "stream",
                              "text": [
                                    "Objectif minimal:  28.0\n"
                              ]
                        }
                  ],
                  "source": [
                        "show_solution(m, debug=False)\n",
                        "# run C1 C2 C4 \n",
                        "# test ensuite avec autre limite de variable"
                  ]
            }
      ],
      "metadata": {
            "kernelspec": {
                  "display_name": "st7",
                  "language": "python",
                  "name": "python3"
            },
            "language_info": {
                  "codemirror_mode": {
                        "name": "ipython",
                        "version": 3
                  },
                  "file_extension": ".py",
                  "mimetype": "text/x-python",
                  "name": "python",
                  "nbconvert_exporter": "python",
                  "pygments_lexer": "ipython3",
                  "version": "3.9.15"
            },
            "orig_nbformat": 4,
            "vscode": {
                  "interpreter": {
                        "hash": "7b434065e2cdc05a5f5c63d7b8fefd02becf6c657fdc906fc2a634796f2f0d30"
                  }
            }
      },
      "nbformat": 4,
      "nbformat_minor": 2
}
