{
 "cells": [
  {
   "cell_type": "code",
   "execution_count": 1,
   "metadata": {},
   "outputs": [],
   "source": [
    "#import dataframes\n",
    "import data\n",
    "dataframes = data.get_all_pandas()"
   ]
  },
  {
   "cell_type": "code",
   "execution_count": 10,
   "metadata": {},
   "outputs": [],
   "source": [
    "import gurobipy"
   ]
  },
  {
   "cell_type": "code",
   "execution_count": null,
   "metadata": {},
   "outputs": [],
   "source": []
  },
  {
   "attachments": {},
   "cell_type": "markdown",
   "metadata": {},
   "source": [
    "{lable, sillon , heure debuut}"
   ]
  },
  {
   "cell_type": "code",
   "execution_count": 8,
   "metadata": {},
   "outputs": [],
   "source": [
    "def add_arrival_tasks(sillon):\n",
    "    print(sillon[\"LDEP\"])\n",
    "    \n"
   ]
  },
  {
   "cell_type": "code",
   "execution_count": 9,
   "metadata": {},
   "outputs": [
    {
     "name": "stdout",
     "output_type": "stream",
     "text": [
      "sillon1\n",
      "NC\n",
      "sillon2\n",
      "NC\n",
      "sillon3\n",
      "NC\n",
      "sillon4\n",
      "sillon5\n",
      "sillon6\n"
     ]
    }
   ],
   "source": [
    "sillons_df = dataframes[\"sillons_df\"]\n",
    "for idx in range(len(sillons_df)):\n",
    "    sillon = sillons_df.iloc[idx]\n",
    "    print(sillon[\"n°TRAIN\"])\n",
    "    if sillon[\"LDEP\"]==\"NC\":\n",
    "        # add all taches arrival\n",
    "        add_arrival_tasks(sillon)\n",
    "    elif sillon[\"LDEP\"]==\"WPY\":\n",
    "        #add all taches departure\n",
    "        print(\"passed\")\n",
    "        pass\n",
    "    else: \n",
    "        raise Exception(\"LDEP of sillon not recognized ! \")"
   ]
  }
 ],
 "metadata": {
  "kernelspec": {
   "display_name": "st7",
   "language": "python",
   "name": "python3"
  },
  "language_info": {
   "codemirror_mode": {
    "name": "ipython",
    "version": 3
   },
   "file_extension": ".py",
   "mimetype": "text/x-python",
   "name": "python",
   "nbconvert_exporter": "python",
   "pygments_lexer": "ipython3",
   "version": "3.9.15"
  },
  "orig_nbformat": 4,
  "vscode": {
   "interpreter": {
    "hash": "7b434065e2cdc05a5f5c63d7b8fefd02becf6c657fdc906fc2a634796f2f0d30"
   }
  }
 },
 "nbformat": 4,
 "nbformat_minor": 2
}
