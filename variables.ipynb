{
 "cells": [
  {
   "cell_type": "code",
   "execution_count": null,
   "metadata": {},
   "outputs": [],
   "source": [
    "#import dataframes\n",
    "import data\n",
    "dataframes = data.get_all_pandas()"
   ]
  },
  {
   "cell_type": "code",
   "execution_count": null,
   "metadata": {},
   "outputs": [],
   "source": [
    "from gurobipy import *"
   ]
  },
  {
   "cell_type": "code",
   "execution_count": 44,
   "metadata": {},
   "outputs": [],
   "source": [
    "m = Model()\n",
    "variables = {}\n",
    "# create variables structure \n",
    "\n",
    "taches_df = dataframes[\"taches_df\"]\n",
    "machines_df = dataframes[\"machines_df\"]\n",
    "\n",
    "for idx in range(len(taches_df)):\n",
    "    variables[taches_df.iloc[idx][\"Type de tache humaine\"]] = {}\n",
    "for idx in range(len(machines_df)):\n",
    "        if machines_df.iloc[idx][\"Machine\"]:\n",
    "            variables[machines_df.iloc[idx][\"Machine\"]] = {}"
   ]
  },
  {
   "attachments": {},
   "cell_type": "markdown",
   "metadata": {},
   "source": [
    "{lable, sillon , heure debuut}"
   ]
  },
  {
   "cell_type": "code",
   "execution_count": 45,
   "metadata": {},
   "outputs": [],
   "source": [
    "def add_arrival_tasks(sillon):\n",
    "    print(sillon[\"LDEP\"])\n",
    "    taches_df = dataframes[\"taches_df\"]\n",
    "    machines_df = dataframes[\"machines_df\"]\n",
    "\n",
    "    # humain\n",
    "    for idx in range(len(taches_df)):\n",
    "        if taches_df.iloc[idx][\"Type de train\"] == \"ARR\":\n",
    "            variables[taches_df.iloc[idx][\"Type de tache humaine\"]][sillon[\"n°TRAIN\"]] = m.addVar(vtype = GRB.INTEGER, name = str(idx) +\"_\"+sillon[\"n°TRAIN\"])\n",
    "    # machine\n",
    "    for idx in range(len(machines_df)):\n",
    "        if machines_df.iloc[idx][\"Machine\"] in [\"DEB\"]:\n",
    "            variables[machines_df.iloc[idx][\"Machine\"]][sillon[\"n°TRAIN\"]] = m.addVar(vtype = GRB.INTEGER, name = f'{machines_df.iloc[idx][\"Machine\"]}-{sillon[\"n°TRAIN\"]}')\n",
    "\n",
    "def add_departure_tasks(sillon):\n",
    "    machines_df = dataframes[\"machines_df\"]\n",
    "    for idx in range(len(taches_df)):\n",
    "        if taches_df.iloc[idx][\"Type de train\"] == \"DEP\":\n",
    "            variables[taches_df.iloc[idx][\"Type de tache humaine\"]][sillon[\"n°TRAIN\"]] = m.addVar(vtype = GRB.INTEGER, name = str(idx) +\"_\"+sillon[\"n°TRAIN\"])\n",
    "    # machine\n",
    "    for idx in range(len(machines_df)):\n",
    "        if machines_df.iloc[idx][\"Machine\"] in [\"FOR\",\"DEG\"]:\n",
    "            variables[machines_df.iloc[idx][\"Machine\"]][sillon[\"n°TRAIN\"]] = m.addVar(vtype = GRB.INTEGER, name = f'{machines_df.iloc[idx][\"Machine\"]}-{sillon[\"n°TRAIN\"]}')\n"
   ]
  },
  {
   "cell_type": "code",
   "execution_count": 47,
   "metadata": {},
   "outputs": [
    {
     "name": "stdout",
     "output_type": "stream",
     "text": [
      "sillon1\n",
      "NC\n",
      "sillon2\n",
      "NC\n",
      "sillon3\n",
      "NC\n",
      "sillon4\n",
      "sillon5\n",
      "sillon6\n",
      "{'arrivée Reception': {'sillon1': <gurobi.Var *Awaiting Model Update*>, 'sillon2': <gurobi.Var *Awaiting Model Update*>, 'sillon3': <gurobi.Var *Awaiting Model Update*>}, 'préparation tri': {'sillon1': <gurobi.Var *Awaiting Model Update*>, 'sillon2': <gurobi.Var *Awaiting Model Update*>, 'sillon3': <gurobi.Var *Awaiting Model Update*>}, 'débranchement': {'sillon1': <gurobi.Var *Awaiting Model Update*>, 'sillon2': <gurobi.Var *Awaiting Model Update*>, 'sillon3': <gurobi.Var *Awaiting Model Update*>}, 'appui voie + mise en place câle': {'sillon4': <gurobi.Var *Awaiting Model Update*>, 'sillon5': <gurobi.Var *Awaiting Model Update*>, 'sillon6': <gurobi.Var *Awaiting Model Update*>}, 'attelage véhicules': {'sillon4': <gurobi.Var *Awaiting Model Update*>, 'sillon5': <gurobi.Var *Awaiting Model Update*>, 'sillon6': <gurobi.Var *Awaiting Model Update*>}, 'dégarage / bouger de rame': {'sillon4': <gurobi.Var *Awaiting Model Update*>, 'sillon5': <gurobi.Var *Awaiting Model Update*>, 'sillon6': <gurobi.Var *Awaiting Model Update*>}, 'essai de frein départ': {'sillon4': <gurobi.Var *Awaiting Model Update*>, 'sillon5': <gurobi.Var *Awaiting Model Update*>, 'sillon6': <gurobi.Var *Awaiting Model Update*>}, 'DEB': {'sillon1': <gurobi.Var *Awaiting Model Update*>, 'sillon2': <gurobi.Var *Awaiting Model Update*>, 'sillon3': <gurobi.Var *Awaiting Model Update*>}, 'FOR': {'sillon4': <gurobi.Var *Awaiting Model Update*>, 'sillon5': <gurobi.Var *Awaiting Model Update*>, 'sillon6': <gurobi.Var *Awaiting Model Update*>}, 'DEG': {'sillon4': <gurobi.Var *Awaiting Model Update*>, 'sillon5': <gurobi.Var *Awaiting Model Update*>, 'sillon6': <gurobi.Var *Awaiting Model Update*>}}\n"
     ]
    }
   ],
   "source": [
    "sillons_df = dataframes[\"sillons_df\"]\n",
    "for idx in range(len(sillons_df)):\n",
    "    sillon = sillons_df.iloc[idx]\n",
    "    print(sillon[\"n°TRAIN\"])\n",
    "    if sillon[\"LDEP\"]==\"NC\":\n",
    "        # add all taches arrival\n",
    "        add_arrival_tasks(sillon)\n",
    "    elif sillon[\"LDEP\"]==\"WPY\":\n",
    "        add_departure_tasks(sillon)\n",
    "    else: \n",
    "        raise Exception(\"LDEP of sillon not recognized ! \")\n",
    "\n",
    "print(variables)"
   ]
  }
 ],
 "metadata": {
  "kernelspec": {
   "display_name": "gurobi",
   "language": "python",
   "name": "python3"
  },
  "language_info": {
   "codemirror_mode": {
    "name": "ipython",
    "version": 3
   },
   "file_extension": ".py",
   "mimetype": "text/x-python",
   "name": "python",
   "nbconvert_exporter": "python",
   "pygments_lexer": "ipython3",
   "version": "3.8.16"
  },
  "orig_nbformat": 4,
  "vscode": {
   "interpreter": {
    "hash": "a84b5cad715dddcd8cbd815c9b7d0fa0388fbb83d677b0a8c885a8e3fe395c4a"
   }
  }
 },
 "nbformat": 4,
 "nbformat_minor": 2
}
